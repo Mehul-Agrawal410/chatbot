{
  "cells": [
    {
      "cell_type": "markdown",
      "metadata": {
        "id": "view-in-github",
        "colab_type": "text"
      },
      "source": [
        "<a href=\"https://colab.research.google.com/github/Mehul-Agrawal410/chatbot/blob/main/transformer_model.ipynb\" target=\"_parent\"><img src=\"https://colab.research.google.com/assets/colab-badge.svg\" alt=\"Open In Colab\"/></a>"
      ]
    },
    {
      "cell_type": "code",
      "execution_count": null,
      "id": "425a8749",
      "metadata": {
        "id": "425a8749"
      },
      "outputs": [],
      "source": [
        "import transformers\n",
        "import numpy as np\n",
        "import codecs\n",
        "import tensorflow as tf\n",
        "import pandas as pd\n",
        "import ast\n",
        "import tqdm\n",
        "import matplotlib.pyplot as plt\n",
        "%matplotlib inline\n",
        "# import seaborn as sns\n",
        "import pandas as pd\n",
        "import re\n",
        "import tensorflow as tf\n",
        "from tensorflow.keras.layers import Embedding, LSTM, Dense\n",
        "from tensorflow.keras.models import Model\n",
        "from tensorflow.keras.preprocessing.text import Tokenizer\n",
        "from tensorflow.keras.preprocessing.sequence import pad_sequences\n",
        "import numpy as np\n",
        "import re\n",
        "import warnings\n",
        "import tensorflow_datasets as tfds\n",
        "import tensorflow as tf\n",
        "import joblib\n",
        "import time\n",
        "import numpy as np\n",
        "import matplotlib.pyplot as plt\n",
        "from tensorflow.keras.utils import Progbar\n",
        "warnings.filterwarnings('ignore')"
      ]
    },
    {
      "cell_type": "markdown",
      "id": "ea97982f",
      "metadata": {
        "id": "ea97982f"
      },
      "source": [
        "## Loading cleaned data that I have preprared while EDA and preprocessing"
      ]
    },
    {
      "cell_type": "code",
      "execution_count": null,
      "id": "c0645f4e",
      "metadata": {
        "colab": {
          "base_uri": "https://localhost:8080/",
          "height": 293
        },
        "id": "c0645f4e",
        "outputId": "32e2e706-8a16-4013-9dd0-71f6f2b17ce8"
      },
      "outputs": [
        {
          "output_type": "stream",
          "name": "stdout",
          "text": [
            "Mounted at /content/drive\n",
            "@115855 Let's go to DM for the next steps. DM us here: https://t.co/GDrqU22YpT\n",
            "@AppleSupport Tried resetting my settings .. re...\n",
            "997\n",
            "997\n"
          ]
        },
        {
          "output_type": "execute_result",
          "data": {
            "text/plain": [
              "                                question  \\\n",
              "0                                          \n",
              "1   The newest update. I️ made sure t...   \n",
              "2   Tried resetting my settings .. re...   \n",
              "3            This is what it looks like    \n",
              "4   I️ have an iPhone 7 Plus and yes ...   \n",
              "\n",
              "                                              answer  \n",
              "0   We're here for you. Which version of the iOS ...  \n",
              "1   Lets take a closer look into this issue. Sele...  \n",
              "2    Let's go to DM for the next steps. DM us here:   \n",
              "3       Any steps tried since it started last night?  \n",
              "4   That's great it has iOS 11.1 as we can rule o...  "
            ],
            "text/html": [
              "\n",
              "  <div id=\"df-84239dde-98e0-4fcb-a311-3165f8236f1b\" class=\"colab-df-container\">\n",
              "    <div>\n",
              "<style scoped>\n",
              "    .dataframe tbody tr th:only-of-type {\n",
              "        vertical-align: middle;\n",
              "    }\n",
              "\n",
              "    .dataframe tbody tr th {\n",
              "        vertical-align: top;\n",
              "    }\n",
              "\n",
              "    .dataframe thead th {\n",
              "        text-align: right;\n",
              "    }\n",
              "</style>\n",
              "<table border=\"1\" class=\"dataframe\">\n",
              "  <thead>\n",
              "    <tr style=\"text-align: right;\">\n",
              "      <th></th>\n",
              "      <th>question</th>\n",
              "      <th>answer</th>\n",
              "    </tr>\n",
              "  </thead>\n",
              "  <tbody>\n",
              "    <tr>\n",
              "      <th>0</th>\n",
              "      <td></td>\n",
              "      <td>We're here for you. Which version of the iOS ...</td>\n",
              "    </tr>\n",
              "    <tr>\n",
              "      <th>1</th>\n",
              "      <td>The newest update. I️ made sure t...</td>\n",
              "      <td>Lets take a closer look into this issue. Sele...</td>\n",
              "    </tr>\n",
              "    <tr>\n",
              "      <th>2</th>\n",
              "      <td>Tried resetting my settings .. re...</td>\n",
              "      <td>Let's go to DM for the next steps. DM us here:</td>\n",
              "    </tr>\n",
              "    <tr>\n",
              "      <th>3</th>\n",
              "      <td>This is what it looks like</td>\n",
              "      <td>Any steps tried since it started last night?</td>\n",
              "    </tr>\n",
              "    <tr>\n",
              "      <th>4</th>\n",
              "      <td>I️ have an iPhone 7 Plus and yes ...</td>\n",
              "      <td>That's great it has iOS 11.1 as we can rule o...</td>\n",
              "    </tr>\n",
              "  </tbody>\n",
              "</table>\n",
              "</div>\n",
              "    <div class=\"colab-df-buttons\">\n",
              "\n",
              "  <div class=\"colab-df-container\">\n",
              "    <button class=\"colab-df-convert\" onclick=\"convertToInteractive('df-84239dde-98e0-4fcb-a311-3165f8236f1b')\"\n",
              "            title=\"Convert this dataframe to an interactive table.\"\n",
              "            style=\"display:none;\">\n",
              "\n",
              "  <svg xmlns=\"http://www.w3.org/2000/svg\" height=\"24px\" viewBox=\"0 -960 960 960\">\n",
              "    <path d=\"M120-120v-720h720v720H120Zm60-500h600v-160H180v160Zm220 220h160v-160H400v160Zm0 220h160v-160H400v160ZM180-400h160v-160H180v160Zm440 0h160v-160H620v160ZM180-180h160v-160H180v160Zm440 0h160v-160H620v160Z\"/>\n",
              "  </svg>\n",
              "    </button>\n",
              "\n",
              "  <style>\n",
              "    .colab-df-container {\n",
              "      display:flex;\n",
              "      gap: 12px;\n",
              "    }\n",
              "\n",
              "    .colab-df-convert {\n",
              "      background-color: #E8F0FE;\n",
              "      border: none;\n",
              "      border-radius: 50%;\n",
              "      cursor: pointer;\n",
              "      display: none;\n",
              "      fill: #1967D2;\n",
              "      height: 32px;\n",
              "      padding: 0 0 0 0;\n",
              "      width: 32px;\n",
              "    }\n",
              "\n",
              "    .colab-df-convert:hover {\n",
              "      background-color: #E2EBFA;\n",
              "      box-shadow: 0px 1px 2px rgba(60, 64, 67, 0.3), 0px 1px 3px 1px rgba(60, 64, 67, 0.15);\n",
              "      fill: #174EA6;\n",
              "    }\n",
              "\n",
              "    .colab-df-buttons div {\n",
              "      margin-bottom: 4px;\n",
              "    }\n",
              "\n",
              "    [theme=dark] .colab-df-convert {\n",
              "      background-color: #3B4455;\n",
              "      fill: #D2E3FC;\n",
              "    }\n",
              "\n",
              "    [theme=dark] .colab-df-convert:hover {\n",
              "      background-color: #434B5C;\n",
              "      box-shadow: 0px 1px 3px 1px rgba(0, 0, 0, 0.15);\n",
              "      filter: drop-shadow(0px 1px 2px rgba(0, 0, 0, 0.3));\n",
              "      fill: #FFFFFF;\n",
              "    }\n",
              "  </style>\n",
              "\n",
              "    <script>\n",
              "      const buttonEl =\n",
              "        document.querySelector('#df-84239dde-98e0-4fcb-a311-3165f8236f1b button.colab-df-convert');\n",
              "      buttonEl.style.display =\n",
              "        google.colab.kernel.accessAllowed ? 'block' : 'none';\n",
              "\n",
              "      async function convertToInteractive(key) {\n",
              "        const element = document.querySelector('#df-84239dde-98e0-4fcb-a311-3165f8236f1b');\n",
              "        const dataTable =\n",
              "          await google.colab.kernel.invokeFunction('convertToInteractive',\n",
              "                                                    [key], {});\n",
              "        if (!dataTable) return;\n",
              "\n",
              "        const docLinkHtml = 'Like what you see? Visit the ' +\n",
              "          '<a target=\"_blank\" href=https://colab.research.google.com/notebooks/data_table.ipynb>data table notebook</a>'\n",
              "          + ' to learn more about interactive tables.';\n",
              "        element.innerHTML = '';\n",
              "        dataTable['output_type'] = 'display_data';\n",
              "        await google.colab.output.renderOutput(dataTable, element);\n",
              "        const docLink = document.createElement('div');\n",
              "        docLink.innerHTML = docLinkHtml;\n",
              "        element.appendChild(docLink);\n",
              "      }\n",
              "    </script>\n",
              "  </div>\n",
              "\n",
              "\n",
              "<div id=\"df-bc6e16df-5bbc-43d4-823c-3b38a22be144\">\n",
              "  <button class=\"colab-df-quickchart\" onclick=\"quickchart('df-bc6e16df-5bbc-43d4-823c-3b38a22be144')\"\n",
              "            title=\"Suggest charts\"\n",
              "            style=\"display:none;\">\n",
              "\n",
              "<svg xmlns=\"http://www.w3.org/2000/svg\" height=\"24px\"viewBox=\"0 0 24 24\"\n",
              "     width=\"24px\">\n",
              "    <g>\n",
              "        <path d=\"M19 3H5c-1.1 0-2 .9-2 2v14c0 1.1.9 2 2 2h14c1.1 0 2-.9 2-2V5c0-1.1-.9-2-2-2zM9 17H7v-7h2v7zm4 0h-2V7h2v10zm4 0h-2v-4h2v4z\"/>\n",
              "    </g>\n",
              "</svg>\n",
              "  </button>\n",
              "\n",
              "<style>\n",
              "  .colab-df-quickchart {\n",
              "      --bg-color: #E8F0FE;\n",
              "      --fill-color: #1967D2;\n",
              "      --hover-bg-color: #E2EBFA;\n",
              "      --hover-fill-color: #174EA6;\n",
              "      --disabled-fill-color: #AAA;\n",
              "      --disabled-bg-color: #DDD;\n",
              "  }\n",
              "\n",
              "  [theme=dark] .colab-df-quickchart {\n",
              "      --bg-color: #3B4455;\n",
              "      --fill-color: #D2E3FC;\n",
              "      --hover-bg-color: #434B5C;\n",
              "      --hover-fill-color: #FFFFFF;\n",
              "      --disabled-bg-color: #3B4455;\n",
              "      --disabled-fill-color: #666;\n",
              "  }\n",
              "\n",
              "  .colab-df-quickchart {\n",
              "    background-color: var(--bg-color);\n",
              "    border: none;\n",
              "    border-radius: 50%;\n",
              "    cursor: pointer;\n",
              "    display: none;\n",
              "    fill: var(--fill-color);\n",
              "    height: 32px;\n",
              "    padding: 0;\n",
              "    width: 32px;\n",
              "  }\n",
              "\n",
              "  .colab-df-quickchart:hover {\n",
              "    background-color: var(--hover-bg-color);\n",
              "    box-shadow: 0 1px 2px rgba(60, 64, 67, 0.3), 0 1px 3px 1px rgba(60, 64, 67, 0.15);\n",
              "    fill: var(--button-hover-fill-color);\n",
              "  }\n",
              "\n",
              "  .colab-df-quickchart-complete:disabled,\n",
              "  .colab-df-quickchart-complete:disabled:hover {\n",
              "    background-color: var(--disabled-bg-color);\n",
              "    fill: var(--disabled-fill-color);\n",
              "    box-shadow: none;\n",
              "  }\n",
              "\n",
              "  .colab-df-spinner {\n",
              "    border: 2px solid var(--fill-color);\n",
              "    border-color: transparent;\n",
              "    border-bottom-color: var(--fill-color);\n",
              "    animation:\n",
              "      spin 1s steps(1) infinite;\n",
              "  }\n",
              "\n",
              "  @keyframes spin {\n",
              "    0% {\n",
              "      border-color: transparent;\n",
              "      border-bottom-color: var(--fill-color);\n",
              "      border-left-color: var(--fill-color);\n",
              "    }\n",
              "    20% {\n",
              "      border-color: transparent;\n",
              "      border-left-color: var(--fill-color);\n",
              "      border-top-color: var(--fill-color);\n",
              "    }\n",
              "    30% {\n",
              "      border-color: transparent;\n",
              "      border-left-color: var(--fill-color);\n",
              "      border-top-color: var(--fill-color);\n",
              "      border-right-color: var(--fill-color);\n",
              "    }\n",
              "    40% {\n",
              "      border-color: transparent;\n",
              "      border-right-color: var(--fill-color);\n",
              "      border-top-color: var(--fill-color);\n",
              "    }\n",
              "    60% {\n",
              "      border-color: transparent;\n",
              "      border-right-color: var(--fill-color);\n",
              "    }\n",
              "    80% {\n",
              "      border-color: transparent;\n",
              "      border-right-color: var(--fill-color);\n",
              "      border-bottom-color: var(--fill-color);\n",
              "    }\n",
              "    90% {\n",
              "      border-color: transparent;\n",
              "      border-bottom-color: var(--fill-color);\n",
              "    }\n",
              "  }\n",
              "</style>\n",
              "\n",
              "  <script>\n",
              "    async function quickchart(key) {\n",
              "      const quickchartButtonEl =\n",
              "        document.querySelector('#' + key + ' button');\n",
              "      quickchartButtonEl.disabled = true;  // To prevent multiple clicks.\n",
              "      quickchartButtonEl.classList.add('colab-df-spinner');\n",
              "      try {\n",
              "        const charts = await google.colab.kernel.invokeFunction(\n",
              "            'suggestCharts', [key], {});\n",
              "      } catch (error) {\n",
              "        console.error('Error during call to suggestCharts:', error);\n",
              "      }\n",
              "      quickchartButtonEl.classList.remove('colab-df-spinner');\n",
              "      quickchartButtonEl.classList.add('colab-df-quickchart-complete');\n",
              "    }\n",
              "    (() => {\n",
              "      let quickchartButtonEl =\n",
              "        document.querySelector('#df-bc6e16df-5bbc-43d4-823c-3b38a22be144 button');\n",
              "      quickchartButtonEl.style.display =\n",
              "        google.colab.kernel.accessAllowed ? 'block' : 'none';\n",
              "    })();\n",
              "  </script>\n",
              "</div>\n",
              "    </div>\n",
              "  </div>\n"
            ]
          },
          "metadata": {},
          "execution_count": 2
        }
      ],
      "source": [
        "from google.colab import drive\n",
        "drive.mount('/content/drive')\n",
        "import pandas as pd\n",
        "rawData = pd.read_csv('/content/drive/MyDrive/ChatBot-DataSet/twcs.csv/twcs.csv')\n",
        "company = \"AppleSupport\"\n",
        "rawData.head(5)\n",
        "rawData[rawData['author_id'].str.contains(company)].head(30)\n",
        "\n",
        "companyAnswers = rawData[rawData['author_id'].str.contains(company)].head(1000)\n",
        "\n",
        "companyAnswers.head(5)\n",
        "rawData[rawData['text'].str.contains(\"@\" + company)].tail(20)\n",
        "answerTweets = []\n",
        "import numpy as np\n",
        "import re\n",
        "for idx, t in companyAnswers[companyAnswers['author_id'].str.contains(company)].iterrows():\n",
        "     if not np.isnan(t['in_response_to_tweet_id']):\n",
        "\n",
        "        answerTweets.append(t)\n",
        "\n",
        "answerTweets[0]['in_response_to_tweet_id']\n",
        "questionTweets = []\n",
        "\n",
        "for a in answerTweets:\n",
        "    question = rawData.loc[rawData['tweet_id'] == a['in_response_to_tweet_id']]\n",
        "    questionTweets.append(question['text'].to_string(index=False))\n",
        "\n",
        "\n",
        "\n",
        "for idx, t in enumerate(answerTweets):\n",
        "    answerTweets[idx] = answerTweets[idx]['text']\n",
        "\n",
        "\n",
        "#Example answer and matching question\n",
        "print(answerTweets[2])\n",
        "print(questionTweets[2])\n",
        "print(len(answerTweets))\n",
        "print(len(questionTweets))\n",
        "qListTemp = []\n",
        "aListTemp = []\n",
        "\n",
        "for t in questionTweets:\n",
        "    t = re.sub('@[^\\s]+','',t)\n",
        "    t = re.sub('http[^\\s]+','',t)\n",
        "    qListTemp.append(t)\n",
        "\n",
        "for t in answerTweets:\n",
        "    t = re.sub('@[^\\s]+','',t)\n",
        "    t = re.sub('http[^\\s]+','',t)\n",
        "    aListTemp.append(t)\n",
        "\n",
        "questionTweets = qListTemp\n",
        "answerTweets = aListTemp\n",
        "pairs = list(zip(questionTweets,answerTweets))\n",
        "\n",
        "questions = [pairs[i][0] for i in range(len(pairs))]\n",
        "answers = [pairs[i][1] for i in range(len(pairs))]\n",
        "corpus = {'question': questions, 'answer': answers}\n",
        "\n",
        "data = pd.DataFrame(corpus)\n",
        "data.head()"
      ]
    },
    {
      "cell_type": "markdown",
      "id": "81af0edc",
      "metadata": {
        "id": "81af0edc"
      },
      "source": [
        "## Dividing into TWO, train/validation"
      ]
    },
    {
      "cell_type": "code",
      "execution_count": null,
      "id": "5d494f32",
      "metadata": {
        "id": "5d494f32"
      },
      "outputs": [],
      "source": [
        "from sklearn.model_selection import train_test_split\n",
        "train, validation = train_test_split(data, test_size=0.2, random_state=4)"
      ]
    },
    {
      "cell_type": "code",
      "execution_count": null,
      "id": "ebf65780",
      "metadata": {
        "colab": {
          "base_uri": "https://localhost:8080/"
        },
        "id": "ebf65780",
        "outputId": "e14f0756-b77e-4569-81c6-3075497a5424"
      },
      "outputs": [
        {
          "output_type": "stream",
          "name": "stdout",
          "text": [
            "vocab_size_ans, vocab_size_ques:1628,1811\n"
          ]
        }
      ],
      "source": [
        "vocab_ans = list(set(\" \".join(train['answer'].values).split()))\n",
        "vocab_ques = list(set(\" \".join(train['question'].values).split()))\n",
        "vocab_size_ans, vocab_size_ques = len(vocab_ans), len(vocab_ques)\n",
        "print(f\"vocab_size_ans, vocab_size_ques:{vocab_size_ans},{ vocab_size_ques}\")"
      ]
    },
    {
      "cell_type": "markdown",
      "id": "289182c9",
      "metadata": {
        "id": "289182c9"
      },
      "source": [
        "## Using tfds SubwordTextEncoder, it will create tokens\n",
        "#### example Multiplication -> Multi, pli, cat, i, on\n",
        "#### Advantages:\n",
        "    1. Reduces vocab size => faster learning\n",
        "    2. Reduces chances of missing word in test data"
      ]
    },
    {
      "cell_type": "code",
      "execution_count": null,
      "id": "f322ecb3",
      "metadata": {
        "id": "f322ecb3"
      },
      "outputs": [],
      "source": [
        "tokenizer_a = tfds.deprecated.text.SubwordTextEncoder.build_from_corpus(\n",
        "    train['answer'], target_vocab_size=2**15)\n",
        "\n",
        "tokenizer_q = tfds.deprecated.text.SubwordTextEncoder.build_from_corpus(\n",
        "    train['question'], target_vocab_size=2**15)"
      ]
    },
    {
      "cell_type": "code",
      "execution_count": null,
      "id": "609b2718",
      "metadata": {
        "colab": {
          "base_uri": "https://localhost:8080/"
        },
        "id": "609b2718",
        "outputId": "131ff545-1fbc-4db0-af0a-47e16cb91fe3"
      },
      "outputs": [
        {
          "output_type": "stream",
          "name": "stdout",
          "text": [
            "tokenizer_q:2027\n",
            "tokenizer_a:1699\n"
          ]
        }
      ],
      "source": [
        "print(f\"tokenizer_q:{tokenizer_q.vocab_size}\")\n",
        "print(f\"tokenizer_a:{tokenizer_a.vocab_size}\")"
      ]
    },
    {
      "cell_type": "markdown",
      "id": "02392cc3",
      "metadata": {
        "id": "02392cc3"
      },
      "source": [
        "#### Examples of subword tokenization in action!"
      ]
    },
    {
      "cell_type": "code",
      "execution_count": null,
      "id": "cf67e110",
      "metadata": {
        "colab": {
          "base_uri": "https://localhost:8080/"
        },
        "id": "cf67e110",
        "outputId": "9eb80d18-40b0-4a78-e62d-75398064f911"
      },
      "outputs": [
        {
          "output_type": "stream",
          "name": "stdout",
          "text": [
            "Tokenized string is [1512, 1553, 1542, 1554, 1543, 1544, 1557, 1475, 1543, 1544, 1542, 1554, 1543, 1544, 1557]\n",
            "The original string: Encoder decoder\n",
            "1512---->E\n",
            "1553---->n\n",
            "1542---->c\n",
            "1554---->o\n",
            "1543---->d\n",
            "1544---->e\n",
            "1557---->r\n",
            "1475----> \n",
            "1543---->d\n",
            "1544---->e\n",
            "1542---->c\n",
            "1554---->o\n",
            "1543---->d\n",
            "1544---->e\n",
            "1557---->r\n",
            "================================================================================\n",
            "Tokenized string is [1840, 1881, 1870, 1882, 1264, 1885, 1803, 1264, 1870, 1882, 1264, 1885]\n",
            "The original string: Encoder decoder\n",
            "1840---->E\n",
            "1881---->n\n",
            "1870---->c\n",
            "1882---->o\n",
            "1264---->de\n",
            "1885---->r\n",
            "1803----> \n",
            "1264---->de\n",
            "1870---->c\n",
            "1882---->o\n",
            "1264---->de\n",
            "1885---->r\n"
          ]
        }
      ],
      "source": [
        "sample_string = 'Encoder decoder'\n",
        "\n",
        "tokenized_string = tokenizer_a.encode(sample_string)\n",
        "print ('Tokenized string is {}'.format(tokenized_string))\n",
        "\n",
        "original_string = tokenizer_a.decode(tokenized_string)\n",
        "print ('The original string: {}'.format(original_string))\n",
        "\n",
        "for token in tokenized_string:\n",
        "    print(str(token) + \"---->\" + tokenizer_a.decode([token]))\n",
        "\n",
        "print(\"=\"*80)\n",
        "tokenized_string = tokenizer_q.encode(sample_string)\n",
        "print ('Tokenized string is {}'.format(tokenized_string))\n",
        "\n",
        "original_string = tokenizer_q.decode(tokenized_string)\n",
        "print ('The original string: {}'.format(original_string))\n",
        "\n",
        "for token in tokenized_string:\n",
        "    print(str(token) + \"---->\" + tokenizer_q.decode([token]))"
      ]
    },
    {
      "cell_type": "markdown",
      "id": "ff9e30ce",
      "metadata": {
        "id": "ff9e30ce"
      },
      "source": [
        "###### 0-27512 for questions\n",
        "\n",
        "###### 0-27357 for answers"
      ]
    },
    {
      "cell_type": "markdown",
      "id": "3d9469ee",
      "metadata": {
        "id": "3d9469ee"
      },
      "source": [
        "* **Attaching token number '27513' representing \\<start> and '27514' representing \\<end> QUESTIONS**\n",
        "* **Attaching token number '27358' representing \\<start> and '27359' representing \\<end> ANSWERS**"
      ]
    },
    {
      "cell_type": "code",
      "execution_count": null,
      "id": "aeb6d990",
      "metadata": {
        "id": "aeb6d990"
      },
      "outputs": [],
      "source": [
        "def encode(ques, ans):\n",
        "    ques = [tokenizer_q.vocab_size] + tokenizer_q.encode(ques.numpy()) + [tokenizer_q.vocab_size+1]\n",
        "    ans = [tokenizer_a.vocab_size] + tokenizer_a.encode(ans.numpy()) + [tokenizer_a.vocab_size+1]\n",
        "    return ques, ans\n",
        "\n",
        "def tf_encode(ques, ans):\n",
        "    result_ques, result_ans = tf.py_function(encode, [ques, ans], [tf.int64, tf.int64])\n",
        "    result_ques.set_shape([None])\n",
        "    result_ans.set_shape([None])\n",
        "    return result_ques, result_ans"
      ]
    },
    {
      "cell_type": "code",
      "execution_count": null,
      "id": "bc78baed",
      "metadata": {
        "colab": {
          "base_uri": "https://localhost:8080/"
        },
        "id": "bc78baed",
        "outputId": "52cb3ffa-92ae-4f7d-d347-15ce072c385e"
      },
      "outputs": [
        {
          "output_type": "stream",
          "name": "stdout",
          "text": [
            " just updated my 7 plus to 11.1 bu... \n",
            "  Got it. Have you updated your Apple Watch to 4.1 yet?\n",
            "tf.Tensor([2027 1803   32   31    3   60  289    7   10 1817   40  331    1 2028], shape=(14,), dtype=int64)\n",
            "tf.Tensor(\n",
            "[1699 1475  187   82    1  132    3  165   15  180  383    2 1495 1489\n",
            "  123  349 1506 1700], shape=(18,), dtype=int64)\n"
          ]
        }
      ],
      "source": [
        "print(train['question'].values[0],\"\\n\",train['answer'].values[0])\n",
        "question, answer = tf_encode(train['question'].values[0],train['answer'].values[0])\n",
        "print(question)\n",
        "print(answer)"
      ]
    },
    {
      "cell_type": "markdown",
      "id": "d1413123",
      "metadata": {
        "id": "d1413123"
      },
      "source": [
        "### Creating train_dataset/test_dataset object from Dataframe + padding\n",
        "\n",
        "###### prefetch: If I'm at epoch-20 then prefetch prepares the Batch for epoch-21, so when epoch-21 start, it will make available the batch in no time, basically enhancing speed"
      ]
    },
    {
      "cell_type": "code",
      "execution_count": null,
      "id": "54bb56c4",
      "metadata": {
        "id": "54bb56c4"
      },
      "outputs": [],
      "source": [
        "train_dataset = tf.data.Dataset.from_tensor_slices(dict(train))\n",
        "train_dataset = train_dataset.map(lambda x:tf_encode(x['question'], x['answer']))\n",
        "train_dataset = train_dataset.cache()\n",
        "train_dataset = train_dataset.shuffle(20000).padded_batch(64, padded_shapes=([None],[None]))\n",
        "train_dataset = train_dataset.prefetch(tf.data.experimental.AUTOTUNE)"
      ]
    },
    {
      "cell_type": "code",
      "execution_count": null,
      "id": "436c73c8",
      "metadata": {
        "id": "436c73c8"
      },
      "outputs": [],
      "source": [
        "val_dataset = tf.data.Dataset.from_tensor_slices(dict(validation))\n",
        "val_dataset = val_dataset.map(lambda x:tf_encode(x['question'], x['answer']))\n",
        "val_dataset = val_dataset.padded_batch(64, padded_shapes=([None],[None]))"
      ]
    },
    {
      "cell_type": "code",
      "execution_count": null,
      "id": "85844a50",
      "metadata": {
        "colab": {
          "base_uri": "https://localhost:8080/"
        },
        "id": "85844a50",
        "outputId": "2d888215-1083-4563-a5f2-c57e2ae1aee7"
      },
      "outputs": [
        {
          "output_type": "execute_result",
          "data": {
            "text/plain": [
              "<tf.Tensor: shape=(64, 16), dtype=int64, numpy=\n",
              "array([[2027, 1803,  170, ...,    0,    0,    0],\n",
              "       [2027,    4,  100, ...,    0,    0,    0],\n",
              "       [2027, 1803,   95, ...,    0,    0,    0],\n",
              "       ...,\n",
              "       [2027, 1803,    2, ..., 2028,    0,    0],\n",
              "       [2027, 1803,  355, ...,    1, 2028,    0],\n",
              "       [2027, 1803,  473, ...,    0,    0,    0]])>"
            ]
          },
          "metadata": {},
          "execution_count": 12
        }
      ],
      "source": [
        "question, answer = next(iter(train_dataset))\n",
        "question"
      ]
    },
    {
      "cell_type": "markdown",
      "id": "80bf8241",
      "metadata": {
        "id": "80bf8241"
      },
      "source": [
        "### Positional encoding function where 'i' -> embedding dimn index, 'pos' -> word index in a sentence"
      ]
    },
    {
      "cell_type": "markdown",
      "id": "9500b25e",
      "metadata": {
        "id": "9500b25e"
      },
      "source": [
        "$$\\Large{PE_{(pos, 2i)} = sin(pos / 10000^{2i / d_{model}})} $$\n",
        "$$\\Large{PE_{(pos, 2i+1)} = cos(pos / 10000^{2i / d_{model}})} $$"
      ]
    },
    {
      "cell_type": "code",
      "execution_count": null,
      "id": "2ae35c9d",
      "metadata": {
        "colab": {
          "base_uri": "https://localhost:8080/",
          "height": 472
        },
        "id": "2ae35c9d",
        "outputId": "0d3b569f-706f-4f7f-e434-b067206ad9d7"
      },
      "outputs": [
        {
          "output_type": "stream",
          "name": "stdout",
          "text": [
            "(1, 50, 512)\n"
          ]
        },
        {
          "output_type": "display_data",
          "data": {
            "text/plain": [
              "<Figure size 640x480 with 2 Axes>"
            ],
            "image/png": "[encoded data removed]"
          },
          "metadata": {}
        }
      ],
      "source": [
        "# Positional encoding\n",
        "\n",
        "\n",
        "def get_angles(pos, i, d_model):\n",
        "    angle_rates = 1 / np.power(10000, (2 * (i//2)) / np.float32(d_model))\n",
        "    return pos * angle_rates\n",
        "\n",
        "\n",
        "\n",
        "def positional_encoding(position, d_model):\n",
        "    angle_rads = get_angles(np.arange(position)[:, np.newaxis],\n",
        "                          np.arange(d_model)[np.newaxis, :],\n",
        "                          d_model)\n",
        "\n",
        "    # apply sin to even indices in the array; 2i\n",
        "    angle_rads[:, 0::2] = np.sin(angle_rads[:, 0::2])\n",
        "\n",
        "    # apply cos to odd indices in the array; 2i+1\n",
        "    angle_rads[:, 1::2] = np.cos(angle_rads[:, 1::2])\n",
        "\n",
        "    pos_encoding = angle_rads[np.newaxis,:]\n",
        "\n",
        "    return tf.cast(pos_encoding, dtype=tf.float32)\n",
        "\n",
        "\n",
        "\n",
        "pos_encoding = positional_encoding(50, 512)\n",
        "print (pos_encoding.shape)\n",
        "\n",
        "plt.pcolormesh(pos_encoding[0], cmap='RdBu')\n",
        "plt.xlabel('Depth')\n",
        "plt.xlim((0, 512))\n",
        "plt.ylabel('Position')\n",
        "plt.colorbar()\n",
        "plt.show()"
      ]
    },
    {
      "cell_type": "markdown",
      "id": "5d393354",
      "metadata": {
        "id": "5d393354"
      },
      "source": [
        "## 1. Pad Masking\n",
        "#### Making all the padded tokens, self attention/attention calculation of a word with those paddings will be ignored"
      ]
    },
    {
      "cell_type": "markdown",
      "id": "9ecbd402",
      "metadata": {
        "id": "9ecbd402"
      },
      "source": [
        "\n",
        "* Here output dimn -> (batch_size, 1, 1, seq_len)\n",
        "          \n",
        "*  for each 8 attention heads, for each query word it will be multiplied, thats why creating 1, 1 in the middle\n",
        "\n",
        "##### (batch_size, 8, query_word_len, seq_len) * (batch_size, 1, 1, seq_len)"
      ]
    },
    {
      "cell_type": "code",
      "execution_count": null,
      "id": "628afe59",
      "metadata": {
        "id": "628afe59"
      },
      "outputs": [],
      "source": [
        "# Masking\n",
        "\n",
        "'''Mask all the pad tokens in the batch of sequence.\n",
        "It ensures that the model does not treat padding as the input.\n",
        "The mask indicates where pad value 0 is present: it outputs a 1 at those locations, and a 0 otherwise.\n",
        "'''\n",
        "def create_padding_mask(seq):\n",
        "    \"\"\"\n",
        "    seq: padded sentence length (5)\n",
        "    \"\"\"\n",
        "    seq = tf.cast(tf.math.equal(seq, 0), tf.float32)\n",
        "    # Adding 2, 3 dimn using tf.newaxis, 2-> As this mask will be multiplied with each attention head and 3-> for each word in a sentance\n",
        "    return seq[:, tf.newaxis, tf.newaxis, :]  # (batch_size, 1, 1, seq_len)\n",
        "# create_padding_mask(np.array([[1,2,3,0,0,0],[1,2,3,0,0,1]]))"
      ]
    },
    {
      "cell_type": "markdown",
      "id": "2d9aceca",
      "metadata": {
        "id": "2d9aceca"
      },
      "source": [
        "## 2. Looakahead mask\n",
        "\n",
        "for the first word, its self attention calculation with be ignored will proceeding words i.e. second, third word and so on"
      ]
    },
    {
      "cell_type": "code",
      "execution_count": null,
      "id": "d26dea25",
      "metadata": {
        "colab": {
          "base_uri": "https://localhost:8080/"
        },
        "id": "d26dea25",
        "outputId": "c31c8b7f-20a4-440e-87dc-592ba625cfe2"
      },
      "outputs": [
        {
          "output_type": "execute_result",
          "data": {
            "text/plain": [
              "<tf.Tensor: shape=(3, 3), dtype=float32, numpy=\n",
              "array([[0., 1., 1.],\n",
              "       [0., 0., 1.],\n",
              "       [0., 0., 0.]], dtype=float32)>"
            ]
          },
          "metadata": {},
          "execution_count": 15
        }
      ],
      "source": [
        "# Looakahead mask\n",
        "\n",
        "\"\"\"The look-ahead mask is used to mask the future tokens in a sequence.\n",
        "In other words, the mask indicates which entries should not be used.\n",
        "\"\"\"\n",
        "def create_look_ahead_mask(size):\n",
        "    \"\"\"\n",
        "    The look-ahead mask is used to mask the future tokens in a sequence\n",
        "    \"\"\"\n",
        "    #band_part with this setting creates lower triangular matrix that's why subtracting from 1\n",
        "    # [[0., 1., 1.],\n",
        "    #  [0., 0., 1.],\n",
        "    #  [0., 0., 0.]] output with size:3\n",
        "    mask = 1 - tf.linalg.band_part(tf.ones((size, size)), -1, 0)\n",
        "    return mask  # (seq_len, seq_len)\n",
        "\n",
        "#example\n",
        "x = tf.random.uniform((1, 3))\n",
        "temp = create_look_ahead_mask(x.shape[1])\n",
        "temp"
      ]
    },
    {
      "cell_type": "markdown",
      "id": "2896ca7e",
      "metadata": {
        "id": "2896ca7e"
      },
      "source": [
        "## 3. SELF-ATTENTION calculation"
      ]
    },
    {
      "cell_type": "markdown",
      "id": "04daf49a",
      "metadata": {
        "id": "04daf49a"
      },
      "source": [
        "![image](images/attenion_formula.png)"
      ]
    },
    {
      "cell_type": "code",
      "execution_count": null,
      "id": "f55e44a8",
      "metadata": {
        "id": "f55e44a8"
      },
      "outputs": [],
      "source": [
        "def scaled_dot_product_attention(q, k, v, mask=None):\n",
        "    \"\"\"\n",
        "    Args:\n",
        "    q: query shape == (..., seq_len_q, depth) # NOTE: depth=dk\n",
        "    k: key shape == (..., seq_len_k, depth)\n",
        "    v: value shape == (..., seq_len_v, depth_v)\n",
        "    mask: Float tensor with shape broadcastable to (..., seq_len_q, seq_len_k). Defaults to None.\n",
        "\n",
        "    Returns:\n",
        "    output, attention_weights\n",
        "    \"\"\"\n",
        "    matmul_qk = tf.matmul(q, k, transpose_b=True)  # (..., seq_len_q, seq_len_k)\n",
        "    # scale matmul_qk. underroot d_model i.e. underroot(100)\n",
        "    dk = tf.cast(tf.shape(k)[-1], tf.float32)\n",
        "    scaled_attention_logits = matmul_qk / tf.math.sqrt(dk)\n",
        "    # add the mask to the scaled tensor.\n",
        "    if mask is not None:\n",
        "        scaled_attention_logits += (mask * -1e9)  # -1e9 ~ (-INFINITY) => where ever mask is set, make its logit value close to -INF\n",
        "    # softmax is normalized on the last axis (seq_len_k) so that the scores add up to 1.\n",
        "    attention_weights = tf.nn.softmax(scaled_attention_logits, axis=-1)  # (..., seq_len_q, seq_len_k)\n",
        "    output = tf.matmul(attention_weights, v)  # (..., seq_len_q, depth_v)\n",
        "\n",
        "    return output, attention_weights"
      ]
    },
    {
      "cell_type": "markdown",
      "id": "798eca41",
      "metadata": {
        "id": "798eca41"
      },
      "source": [
        "## 4. MultiHeadAttention Calculation\n",
        "#### Its nothing but a RESHAPING\n",
        "example :\n",
        "1. if we have (64, 10, 512)->(BATCH, #words, embeddding) as input, after passiing it though dense layer of size 512 we will get (64, 10, 512)\n",
        "2. We have three such dense layers representing/for Q, K, V encodings.\n",
        "3. (64, 10, 512) -> reshape -> (64, 8, 10 ,64) -> (BATCH, attention head, #words, encode)\n",
        "    '64' is representing encoding of 512 -> 64 dimension\n",
        "4. (64, 8, 10 ,64)->self-attention-code->(64, 8, 10 ,10) called attention weights, (64, 8, 10 ,64)\n",
        "5. Concatenate such that 8*64 will be new dimension -> (64, 10, 512)\n",
        "    \n",
        "    **Beware embedding dimn must be divisible by no. of heads and always embedding_dimn/heads => encodin_dimn(here 64)**\n",
        "    \n",
        "    **NICE HACK** (-_-)"
      ]
    },
    {
      "cell_type": "markdown",
      "id": "0f41cf3c",
      "metadata": {
        "id": "0f41cf3c"
      },
      "source": [
        "![image](images/multi_head.png)"
      ]
    },
    {
      "cell_type": "code",
      "execution_count": null,
      "id": "ab0b6ec3",
      "metadata": {
        "id": "ab0b6ec3"
      },
      "outputs": [],
      "source": [
        "class MultiHeadAttention(tf.keras.layers.Layer):\n",
        "    def __init__(self, d_model, num_heads):\n",
        "        super(MultiHeadAttention, self).__init__()\n",
        "        self.num_heads = num_heads\n",
        "        self.d_model = d_model  # typically 512\n",
        "\n",
        "        assert d_model % self.num_heads == 0\n",
        "\n",
        "        self.depth = d_model // self.num_heads\n",
        "\n",
        "        self.wq = tf.keras.layers.Dense(d_model)\n",
        "        self.wk = tf.keras.layers.Dense(d_model)\n",
        "        self.wv = tf.keras.layers.Dense(d_model)\n",
        "\n",
        "        self.dense = tf.keras.layers.Dense(d_model)\n",
        "\n",
        "    def split_heads(self, x, batch_size):\n",
        "        \"\"\"Split the last dimension into (num_heads, depth).\n",
        "        Transpose the result such that the shape is (batch_size, num_heads, seq_len, depth)\n",
        "        \"\"\"\n",
        "        x = tf.reshape(x, (batch_size, -1, self.num_heads, self.depth))\n",
        "        return tf.transpose(x, perm=[0, 2, 1, 3])\n",
        "\n",
        "    def call(self, v, k, q, mask):\n",
        "        batch_size = tf.shape(q)[0]\n",
        "\n",
        "        q = self.wq(q)  # (batch_size, seq_len, d_model)\n",
        "        k = self.wk(k)  # (batch_size, seq_len, d_model)\n",
        "        v = self.wv(v)  # (batch_size, seq_len, d_model)\n",
        "\n",
        "        q = self.split_heads(q, batch_size)  # (batch_size, num_heads, seq_len_q, depth)\n",
        "        k = self.split_heads(k, batch_size)  # (batch_size, num_heads, seq_len_k, depth)\n",
        "        v = self.split_heads(v, batch_size)  # (batch_size, num_heads, seq_len_v, depth)\n",
        "\n",
        "        # scaled_attention.shape == (batch_size, num_heads, seq_len_q, depth)\n",
        "        # attention_weights.shape == (batch_size, num_heads, seq_len_q, seq_len_k)\n",
        "        scaled_attention, attention_weights = scaled_dot_product_attention(\n",
        "            q, k, v, mask)\n",
        "\n",
        "        scaled_attention = tf.transpose(scaled_attention, perm=[0, 2, 1, 3])  # (batch_size, seq_len_q, num_heads, depth)\n",
        "\n",
        "        concat_attention = tf.reshape(scaled_attention,\n",
        "                                      (batch_size, -1, self.d_model))  # (batch_size, seq_len_q, d_model)\n",
        "\n",
        "        output = self.dense(concat_attention)  # (batch_size, seq_len_q, d_model)\n",
        "\n",
        "        return output, attention_weights"
      ]
    },
    {
      "cell_type": "markdown",
      "id": "809f3721",
      "metadata": {
        "id": "809f3721"
      },
      "source": [
        "## 5. ENCODER layer\n",
        "\n",
        "\n",
        "\n",
        "![image](images/encoder_layer.png)\n"
      ]
    },
    {
      "cell_type": "code",
      "execution_count": null,
      "id": "2c9b69f5",
      "metadata": {
        "id": "2c9b69f5"
      },
      "outputs": [],
      "source": [
        "def point_wise_feed_forward_network(d_model, dff): #dff = 512\n",
        "    return tf.keras.Sequential([\n",
        "      tf.keras.layers.Dense(dff, activation='relu'),  # (batch_size, seq_len, dff)\n",
        "      tf.keras.layers.Dense(d_model)  # (batch_size, seq_len, d_model)\n",
        "    ])\n",
        "\n",
        "\n",
        "class EncoderLayer(tf.keras.layers.Layer):\n",
        "    def __init__(self, d_model, num_heads, dff, rate=0.1):\n",
        "        super(EncoderLayer, self).__init__()\n",
        "\n",
        "        self.mha = MultiHeadAttention(d_model, num_heads)\n",
        "        self.ffn = point_wise_feed_forward_network(d_model, dff)\n",
        "\n",
        "        self.layernorm1 = tf.keras.layers.LayerNormalization(epsilon=1e-6)\n",
        "        self.layernorm2 = tf.keras.layers.LayerNormalization(epsilon=1e-6)\n",
        "\n",
        "        self.dropout1 = tf.keras.layers.Dropout(rate)\n",
        "        self.dropout2 = tf.keras.layers.Dropout(rate)\n",
        "\n",
        "    def call(self, x, training, mask):\n",
        "        attn_output, _ = self.mha(x, x, x, mask)  # (batch_size, input_seq_len, d_model)\n",
        "        attn_output = self.dropout1(attn_output, training=training)\n",
        "        out1 = self.layernorm1(x + attn_output)  # (batch_size, input_seq_len, d_model) # with Attention\n",
        "\n",
        "        ffn_output = self.ffn(out1)  # (batch_size, input_seq_len, d_model)\n",
        "        ffn_output = self.dropout2(ffn_output, training=training)\n",
        "        out2 = self.layernorm2(out1 + ffn_output)  # (batch_size, input_seq_len, d_model) #with Attention\n",
        "\n",
        "        return out2"
      ]
    },
    {
      "cell_type": "code",
      "execution_count": null,
      "id": "d18de1ef",
      "metadata": {
        "colab": {
          "base_uri": "https://localhost:8080/"
        },
        "id": "d18de1ef",
        "outputId": "f02a6edc-1bba-4eb3-cf0d-e30d39f10414"
      },
      "outputs": [
        {
          "output_type": "execute_result",
          "data": {
            "text/plain": [
              "TensorShape([64, 43, 512])"
            ]
          },
          "metadata": {},
          "execution_count": 19
        }
      ],
      "source": [
        "sample_encoder_layer = EncoderLayer(512, 8, 2048)\n",
        "\n",
        "sample_encoder_layer_output = sample_encoder_layer(\n",
        "    tf.random.uniform((64, 43, 512)), False, None)\n",
        "\n",
        "sample_encoder_layer_output.shape  # (batch_size, input_seq_len, d_model)"
      ]
    },
    {
      "cell_type": "markdown",
      "id": "0d49552e",
      "metadata": {
        "id": "0d49552e"
      },
      "source": [
        "## 6. DECODER LAYER\n",
        "\n",
        "\n",
        "![image](images/decoder_layer.png)"
      ]
    },
    {
      "cell_type": "code",
      "execution_count": null,
      "id": "f3061bff",
      "metadata": {
        "id": "f3061bff"
      },
      "outputs": [],
      "source": [
        "class DecoderLayer(tf.keras.layers.Layer):\n",
        "    def __init__(self, d_model, num_heads, dff, rate=0.1):\n",
        "        super(DecoderLayer, self).__init__()\n",
        "\n",
        "        self.mha1 = MultiHeadAttention(d_model, num_heads)\n",
        "        self.mha2 = MultiHeadAttention(d_model, num_heads)\n",
        "\n",
        "        self.ffn = point_wise_feed_forward_network(d_model, dff)\n",
        "\n",
        "        self.layernorm1 = tf.keras.layers.LayerNormalization(epsilon=1e-6)\n",
        "        self.layernorm2 = tf.keras.layers.LayerNormalization(epsilon=1e-6)\n",
        "        self.layernorm3 = tf.keras.layers.LayerNormalization(epsilon=1e-6)\n",
        "\n",
        "        self.dropout1 = tf.keras.layers.Dropout(rate)\n",
        "        self.dropout2 = tf.keras.layers.Dropout(rate)\n",
        "        self.dropout3 = tf.keras.layers.Dropout(rate)\n",
        "\n",
        "\n",
        "    def call(self, x, enc_output, training, look_ahead_mask, padding_mask):\n",
        "\n",
        "        attn1, attn_weights_block1 = self.mha1(x, x, x, look_ahead_mask)  # (batch_size, target_seq_len, d_model)\n",
        "        attn1 = self.dropout1(attn1, training=training)\n",
        "        out1 = self.layernorm1(attn1 + x)\n",
        "        attn2, attn_weights_block2 = self.mha2(\n",
        "            enc_output, enc_output, out1, padding_mask)  # (batch_size, target_seq_len, d_model)\n",
        "        attn2 = self.dropout2(attn2, training=training)\n",
        "        out2 = self.layernorm2(attn2 + out1)  # (batch_size, target_seq_len, d_model)\n",
        "\n",
        "        ffn_output = self.ffn(out2)  # (batch_size, target_seq_len, d_model)\n",
        "        ffn_output = self.dropout3(ffn_output, training=training)\n",
        "        out3 = self.layernorm3(ffn_output + out2)  # (batch_size, target_seq_len, d_model)\n",
        "\n",
        "        return out3, attn_weights_block1, attn_weights_block2"
      ]
    },
    {
      "cell_type": "markdown",
      "id": "7a2123ca",
      "metadata": {
        "id": "7a2123ca"
      },
      "source": [
        "## 7. ENCODER\n",
        "\n",
        "\n",
        "![image](images/encoder.png)"
      ]
    },
    {
      "cell_type": "code",
      "execution_count": null,
      "id": "98960a2d",
      "metadata": {
        "id": "98960a2d"
      },
      "outputs": [],
      "source": [
        "class Encoder(tf.keras.layers.Layer):\n",
        "    def __init__(self, num_layers, d_model, num_heads, dff, input_vocab_size,\n",
        "               maximum_position_encoding, rate=0.1):\n",
        "        super(Encoder, self).__init__()\n",
        "\n",
        "        self.d_model = d_model\n",
        "        self.num_layers = num_layers\n",
        "\n",
        "        self.embedding = tf.keras.layers.Embedding(input_vocab_size, d_model)\n",
        "        self.pos_encoding = positional_encoding(maximum_position_encoding,\n",
        "                                                self.d_model)\n",
        "\n",
        "\n",
        "        self.enc_layers = [EncoderLayer(d_model, num_heads, dff, rate)\n",
        "                           for _ in range(num_layers)]\n",
        "\n",
        "        self.dropout = tf.keras.layers.Dropout(rate)\n",
        "\n",
        "    def call(self, x, training, mask):\n",
        "\n",
        "        seq_len = tf.shape(x)[1]   #x:(batch, seq_len)\n",
        "        # adding embedding and position encoding.\n",
        "        x = self.embedding(x)  # (batch_size, input_seq_len, d_model)\n",
        "        x *= tf.math.sqrt(tf.cast(self.d_model, tf.float32))\n",
        "        x += self.pos_encoding[:, :seq_len, :]\n",
        "\n",
        "        x = self.dropout(x, training=training)\n",
        "\n",
        "        for i in range(self.num_layers):\n",
        "            x = self.enc_layers[i](x, training, mask)\n",
        "\n",
        "        return x  # (batch_size, input_seq_len, d_model)"
      ]
    },
    {
      "cell_type": "markdown",
      "id": "5fd0dcc2",
      "metadata": {
        "id": "5fd0dcc2"
      },
      "source": [
        "## 8. DECODER\n",
        "\n",
        "\n",
        "![image](images/decoder.png)"
      ]
    },
    {
      "cell_type": "code",
      "execution_count": null,
      "id": "b4232ef9",
      "metadata": {
        "id": "b4232ef9"
      },
      "outputs": [],
      "source": [
        "class Decoder(tf.keras.layers.Layer):\n",
        "    def __init__(self, num_layers, d_model, num_heads, dff, target_vocab_size,\n",
        "               maximum_position_encoding, rate=0.1):\n",
        "        super(Decoder, self).__init__()\n",
        "\n",
        "        self.d_model = d_model\n",
        "        self.num_layers = num_layers\n",
        "\n",
        "        self.embedding = tf.keras.layers.Embedding(target_vocab_size, d_model)\n",
        "        self.pos_encoding = positional_encoding(maximum_position_encoding, d_model)\n",
        "\n",
        "        self.dec_layers = [DecoderLayer(d_model, num_heads, dff, rate)\n",
        "                           for _ in range(num_layers)]\n",
        "        self.dropout = tf.keras.layers.Dropout(rate)\n",
        "\n",
        "    def call(self, x, enc_output, training, look_ahead_mask, padding_mask):\n",
        "\n",
        "        seq_len = tf.shape(x)[1]\n",
        "        attention_weights = {}\n",
        "\n",
        "        x = self.embedding(x)  # (batch_size, target_seq_len, d_model)\n",
        "        x *= tf.math.sqrt(tf.cast(self.d_model, tf.float32))\n",
        "        x += self.pos_encoding[:, :seq_len, :]\n",
        "\n",
        "        x = self.dropout(x, training=training)\n",
        "\n",
        "        for i in range(self.num_layers):\n",
        "            x, block1, block2 = self.dec_layers[i](x, enc_output, training,\n",
        "                                                 look_ahead_mask, padding_mask)\n",
        "\n",
        "            attention_weights['decoder_layer{}_block1'.format(i+1)] = block1\n",
        "            attention_weights['decoder_layer{}_block2'.format(i+1)] = block2\n",
        "\n",
        "        # x.shape == (batch_size, target_seq_len, d_model)\n",
        "        return x, attention_weights"
      ]
    },
    {
      "cell_type": "markdown",
      "id": "50318f4f",
      "metadata": {
        "id": "50318f4f"
      },
      "source": [
        "## 9. TRANSFORMER\n",
        "\n",
        "\n",
        "\n",
        "\n",
        "![image](images/transformer.png)\n"
      ]
    },
    {
      "cell_type": "code",
      "execution_count": null,
      "id": "6ba6c5e1",
      "metadata": {
        "id": "6ba6c5e1"
      },
      "outputs": [],
      "source": [
        "\n",
        "class Transformer(tf.keras.Model):\n",
        "    def __init__(self, num_layers, d_model, num_heads, dff, input_vocab_size,\n",
        "               target_vocab_size, pe_input, pe_target, rate=0.1):\n",
        "        super(Transformer, self).__init__()\n",
        "\n",
        "        self.encoder = Encoder(num_layers, d_model, num_heads, dff,\n",
        "                               input_vocab_size, pe_input, rate)\n",
        "\n",
        "        self.decoder = Decoder(num_layers, d_model, num_heads, dff,\n",
        "                               target_vocab_size, pe_target, rate)\n",
        "\n",
        "        self.final_layer = tf.keras.layers.Dense(target_vocab_size)\n",
        "\n",
        "    def call(self, inp, tar, training, enc_padding_mask,\n",
        "           look_ahead_mask, dec_padding_mask):\n",
        "\n",
        "        enc_output = self.encoder(inp, training, enc_padding_mask)  # (batch_size, inp_seq_len, d_model)\n",
        "\n",
        "        # dec_output.shape == (batch_size, tar_seq_len, d_model)\n",
        "        dec_output, attention_weights = self.decoder(\n",
        "            tar, enc_output, training, look_ahead_mask, dec_padding_mask)\n",
        "\n",
        "        final_output = self.final_layer(dec_output)  # (batch_size, tar_seq_len, target_vocab_size)\n",
        "\n",
        "        return final_output, attention_weights"
      ]
    },
    {
      "cell_type": "markdown",
      "id": "db99e050",
      "metadata": {
        "id": "db99e050"
      },
      "source": [
        "#### So to create a transformer architecture which is now everywhere in NLP models, we require only 9 STEPs :-O"
      ]
    },
    {
      "cell_type": "code",
      "execution_count": null,
      "id": "0ad95ab6",
      "metadata": {
        "id": "0ad95ab6"
      },
      "outputs": [],
      "source": [
        "# tokenizer_a = joblib.load(\"tokenizer_a\")\n",
        "# tokenizer_q = joblib.load(\"tokenizer_q\")"
      ]
    },
    {
      "cell_type": "code",
      "execution_count": null,
      "id": "ca0583e3",
      "metadata": {
        "id": "ca0583e3"
      },
      "outputs": [],
      "source": []
    },
    {
      "cell_type": "code",
      "execution_count": null,
      "id": "fb699bbb",
      "metadata": {
        "id": "fb699bbb"
      },
      "outputs": [],
      "source": [
        "num_layers = 4\n",
        "d_model = 128\n",
        "dff = 512\n",
        "num_heads = 8\n",
        "\n",
        "input_vocab_size = tokenizer_q.vocab_size + 2\n",
        "target_vocab_size = tokenizer_a.vocab_size + 2\n",
        "dropout_rate = 0.1\n",
        "\n",
        "transformer = Transformer(num_layers, d_model, num_heads, dff, input_vocab_size, target_vocab_size,\n",
        "                          pe_input = input_vocab_size, pe_target = target_vocab_size)"
      ]
    },
    {
      "cell_type": "markdown",
      "id": "a6dd6833",
      "metadata": {
        "id": "a6dd6833"
      },
      "source": [
        "## Custom learning rate, proposed in the paper\n",
        "#### First learning rate will be high and then after some epochs it will be decreasing ONLY\n",
        "\n",
        "![image](images/lr.png)\n"
      ]
    },
    {
      "cell_type": "code",
      "execution_count": null,
      "id": "af0bd674",
      "metadata": {
        "id": "af0bd674"
      },
      "outputs": [],
      "source": [
        "class CustomSchedule(tf.keras.optimizers.schedules.LearningRateSchedule):\n",
        "    def __init__(self, d_model, warmup_steps=4000):\n",
        "        super(CustomSchedule, self).__init__()\n",
        "\n",
        "        self.d_model = d_model\n",
        "        self.d_model = tf.cast(self.d_model, tf.float32)\n",
        "\n",
        "        self.warmup_steps = warmup_steps\n",
        "\n",
        "    def __call__(self, step):\n",
        "        step = tf.cast(step, tf.float32)  # Cast step to float32\n",
        "        arg1 = tf.math.rsqrt(step)\n",
        "        arg2 = step * (self.warmup_steps ** -1.5)\n",
        "\n",
        "        return tf.math.rsqrt(self.d_model) * tf.math.minimum(arg1, arg2)"
      ]
    },
    {
      "cell_type": "code",
      "execution_count": null,
      "id": "95ed1f98",
      "metadata": {
        "id": "95ed1f98"
      },
      "outputs": [],
      "source": [
        "learning_rate = CustomSchedule(d_model)\n",
        "\n",
        "optimizer = tf.keras.optimizers.Adam(learning_rate, beta_1=0.9, beta_2=0.98,\n",
        "                                     epsilon=1e-9)"
      ]
    },
    {
      "cell_type": "markdown",
      "id": "a8e3f318",
      "metadata": {
        "id": "a8e3f318"
      },
      "source": [
        "### See, increasing and then decreasing"
      ]
    },
    {
      "cell_type": "code",
      "execution_count": null,
      "id": "a02400de",
      "metadata": {
        "colab": {
          "base_uri": "https://localhost:8080/",
          "height": 466
        },
        "id": "a02400de",
        "outputId": "5f8412c6-1ae8-4bf5-95fc-5d31b9092bb4"
      },
      "outputs": [
        {
          "output_type": "execute_result",
          "data": {
            "text/plain": [
              "Text(0.5, 0, 'Train Step')"
            ]
          },
          "metadata": {},
          "execution_count": 28
        },
        {
          "output_type": "display_data",
          "data": {
            "text/plain": [
              "<Figure size 640x480 with 1 Axes>"
            ],
            "image/png": "[encoded data removed]"
          },
          "metadata": {}
        }
      ],
      "source": [
        "temp_learning_rate_schedule = CustomSchedule(d_model)\n",
        "\n",
        "plt.plot(temp_learning_rate_schedule(tf.range(40000, dtype=tf.float32)))\n",
        "plt.ylabel(\"Learning Rate\")\n",
        "plt.xlabel(\"Train Step\")"
      ]
    },
    {
      "cell_type": "markdown",
      "id": "05c461fb",
      "metadata": {
        "id": "05c461fb"
      },
      "source": [
        "##### Custom losss function, same as sparse categorical cross entropy but considers only no padded values"
      ]
    },
    {
      "cell_type": "code",
      "execution_count": null,
      "id": "ba02438a",
      "metadata": {
        "id": "ba02438a"
      },
      "outputs": [],
      "source": [
        "loss_object = tf.keras.losses.SparseCategoricalCrossentropy(\n",
        "    from_logits=True, reduction='none')\n",
        "def loss_function(real, pred):\n",
        "    mask = tf.math.logical_not(tf.math.equal(real, 0))\n",
        "    loss_ = loss_object(real, pred)\n",
        "\n",
        "    mask = tf.cast(mask, dtype=loss_.dtype)\n",
        "    loss_ *= mask\n",
        "\n",
        "    return tf.reduce_sum(loss_)/tf.reduce_sum(mask)\n",
        "\n",
        "train_loss = tf.keras.metrics.Mean(name='train_loss')\n",
        "train_accuracy = tf.keras.metrics.SparseCategoricalAccuracy(\n",
        "    name='train_accuracy')"
      ]
    },
    {
      "cell_type": "markdown",
      "id": "01b9a90f",
      "metadata": {
        "id": "01b9a90f"
      },
      "source": [
        "### Creating pad mask(encoder), pad mask(decoder), lookahead mask(decoder)"
      ]
    },
    {
      "cell_type": "code",
      "execution_count": null,
      "id": "b61f4e3f",
      "metadata": {
        "id": "b61f4e3f"
      },
      "outputs": [],
      "source": [
        "def create_masks(inp, tar):\n",
        "    # Encoder padding mask\n",
        "    enc_padding_mask = create_padding_mask(inp)\n",
        "\n",
        "    # Used in the 2nd attention block in the decoder.\n",
        "    # This padding mask is used to mask the encoder outputs.\n",
        "    dec_padding_mask = create_padding_mask(inp)\n",
        "\n",
        "    # Used in the 1st attention block in the decoder.\n",
        "    # It is used to pad and mask future tokens in the input received by\n",
        "    # the decoder.\n",
        "    look_ahead_mask = create_look_ahead_mask(tf.shape(tar)[1])\n",
        "    dec_target_padding_mask = create_padding_mask(tar)\n",
        "    combined_mask = tf.maximum(dec_target_padding_mask, look_ahead_mask)\n",
        "\n",
        "    return enc_padding_mask, combined_mask, dec_padding_mask"
      ]
    },
    {
      "cell_type": "markdown",
      "id": "644505ce",
      "metadata": {
        "id": "644505ce"
      },
      "source": [
        "## Saving model checkpoint"
      ]
    },
    {
      "cell_type": "code",
      "execution_count": null,
      "id": "7a9ba0f8",
      "metadata": {
        "id": "7a9ba0f8"
      },
      "outputs": [],
      "source": [
        "checkpoint_path = \"./checkpoints_test/train\"\n",
        "\n",
        "ckpt = tf.train.Checkpoint(transformer=transformer,\n",
        "                           optimizer=optimizer)\n",
        "\n",
        "ckpt_manager = tf.train.CheckpointManager(ckpt, checkpoint_path, max_to_keep=5)\n",
        "\n",
        "# if a checkpoint exists, restore the latest checkpoint.\n",
        "if ckpt_manager.latest_checkpoint:\n",
        "    ckpt.restore(ckpt_manager.latest_checkpoint)\n",
        "    print ('Latest checkpoint restored!!')"
      ]
    },
    {
      "cell_type": "code",
      "execution_count": null,
      "id": "5e0dc634",
      "metadata": {
        "id": "5e0dc634"
      },
      "outputs": [],
      "source": [
        "# The @tf.function trace-compiles train_step into a TF graph for faster\n",
        "# execution. The function specializes to the precise shape of the argument\n",
        "# tensors. To avoid re-tracing due to the variable sequence lengths or variable\n",
        "# batch sizes (the last batch is smaller), use input_signature to specify\n",
        "# more generic shapes.\n",
        "\n",
        "train_step_signature = [\n",
        "    tf.TensorSpec(shape=(None, None), dtype=tf.int64),\n",
        "    tf.TensorSpec(shape=(None, None), dtype=tf.int64),\n",
        "]\n",
        "\n",
        "@tf.function(input_signature=train_step_signature)\n",
        "def train_step(inp, tar):\n",
        "    tar_inp = tar[:, :-1]\n",
        "    tar_real = tar[:, 1:]\n",
        "\n",
        "    enc_padding_mask, combined_mask, dec_padding_mask = create_masks(inp, tar_inp)\n",
        "    with tf.GradientTape() as tape:\n",
        "        predictions, _ = transformer(inp, tar_inp,\n",
        "                                     True,\n",
        "                                     enc_padding_mask,\n",
        "                                     combined_mask,\n",
        "                                     dec_padding_mask)\n",
        "        loss = loss_function(tar_real, predictions)\n",
        "\n",
        "    gradients = tape.gradient(loss, transformer.trainable_variables)\n",
        "    optimizer.apply_gradients(zip(gradients, transformer.trainable_variables))\n",
        "\n",
        "    train_loss(loss)\n",
        "    train_accuracy(tar_real, predictions)"
      ]
    },
    {
      "cell_type": "markdown",
      "id": "bf410f58",
      "metadata": {
        "id": "bf410f58"
      },
      "source": [
        "## Creating sample transformer to know the no. of trainable parameters"
      ]
    },
    {
      "cell_type": "code",
      "execution_count": null,
      "id": "d0d0ea48",
      "metadata": {
        "colab": {
          "base_uri": "https://localhost:8080/"
        },
        "id": "d0d0ea48",
        "outputId": "d231b90f-a343-47ab-880d-da3912a84568"
      },
      "outputs": [
        {
          "output_type": "stream",
          "name": "stdout",
          "text": [
            "Model: \"transformer_1\"\n",
            "_________________________________________________________________\n",
            " Layer (type)                Output Shape              Param #   \n",
            "=================================================================\n",
            " encoder_1 (Encoder)         multiple                  1052800   \n",
            "                                                                 \n",
            " decoder_1 (Decoder)         multiple                  1276032   \n",
            "                                                                 \n",
            " dense_135 (Dense)           multiple                  219429    \n",
            "                                                                 \n",
            "=================================================================\n",
            "Total params: 2548261 (9.72 MB)\n",
            "Trainable params: 2548261 (9.72 MB)\n",
            "Non-trainable params: 0 (0.00 Byte)\n",
            "_________________________________________________________________\n"
          ]
        }
      ],
      "source": [
        "num_layers = 4\n",
        "d_model = 128\n",
        "dff = 512\n",
        "num_heads = 8\n",
        "input_vocab_size = tokenizer_q.vocab_size + 2\n",
        "target_vocab_size = tokenizer_a.vocab_size + 2\n",
        "dropout_rate = 0.1\n",
        "\n",
        "sample_transformer = Transformer(num_layers, d_model, num_heads, dff,\n",
        "                          input_vocab_size, target_vocab_size,\n",
        "                          pe_input=input_vocab_size,\n",
        "                          pe_target=target_vocab_size,\n",
        "                          rate=dropout_rate)\n",
        "\n",
        "temp_input = tf.random.uniform((64, 27), dtype=tf.int64, minval=0, maxval=200)\n",
        "temp_target = tf.random.uniform((64, 27), dtype=tf.int64, minval=0, maxval=200)\n",
        "\n",
        "fn_out, _ = sample_transformer(temp_input, temp_target, training=False,\n",
        "                               enc_padding_mask=None,\n",
        "                               look_ahead_mask=None,\n",
        "                               dec_padding_mask=None)\n",
        "\n",
        "fn_out.shape  # (batch_size, tar_seq_len, target_vocab_size)\n",
        "sample_transformer.summary()"
      ]
    },
    {
      "cell_type": "code",
      "execution_count": null,
      "id": "8d653136",
      "metadata": {
        "id": "8d653136"
      },
      "outputs": [],
      "source": [
        "num_layers = 4\n",
        "d_model = 128\n",
        "dff = 512\n",
        "num_heads = 8\n",
        "input_vocab_size = tokenizer_q.vocab_size + 2\n",
        "target_vocab_size = tokenizer_a.vocab_size + 2\n",
        "dropout_rate = 0.1\n",
        "\n",
        "\n",
        "transformer = Transformer(num_layers, d_model, num_heads, dff,\n",
        "                          input_vocab_size, target_vocab_size,\n",
        "                          pe_input=input_vocab_size,\n",
        "                          pe_target=target_vocab_size,\n",
        "                          rate=dropout_rate)"
      ]
    },
    {
      "cell_type": "code",
      "execution_count": null,
      "id": "a47d4b94",
      "metadata": {
        "colab": {
          "base_uri": "https://localhost:8080/"
        },
        "id": "a47d4b94",
        "outputId": "f592a62a-a64a-4708-c09f-fc11381684cd"
      },
      "outputs": [
        {
          "output_type": "stream",
          "name": "stdout",
          "text": [
            "\n",
            "epoch 1/20\n",
            "832/797 [===============================] - 41s 49ms/step - loss: 7.5240 - acc: 6.1026e-05\n",
            "\n",
            "epoch 2/20\n",
            "832/797 [===============================] - 3s 3ms/step - loss: 7.4963 - acc: 9.3708e-05\n",
            "\n",
            "epoch 3/20\n",
            "832/797 [===============================] - 3s 3ms/step - loss: 7.4509 - acc: 4.0680e-04\n",
            "\n",
            "epoch 4/20\n",
            "832/797 [===============================] - 3s 4ms/step - loss: 7.3984 - acc: 0.0036\n",
            "\n",
            "epoch 5/20\n",
            "832/797 [===============================] - 2s 2ms/step - loss: 7.3486 - acc: 0.0071\n",
            "Saving checkpoint for epoch 5 at ./checkpoints_test/train/ckpt-1\n",
            "\n",
            "epoch 6/20\n",
            "832/797 [===============================] - 2s 2ms/step - loss: 7.3024 - acc: 0.0094\n",
            "\n",
            "epoch 7/20\n",
            "832/797 [===============================] - 2s 2ms/step - loss: 7.2589 - acc: 0.0111\n",
            "\n",
            "epoch 8/20\n",
            "832/797 [===============================] - 2s 2ms/step - loss: 7.2172 - acc: 0.0123\n",
            "\n",
            "epoch 9/20\n",
            "832/797 [===============================] - 2s 3ms/step - loss: 7.1768 - acc: 0.0133\n",
            "\n",
            "epoch 10/20\n",
            "832/797 [===============================] - 2s 2ms/step - loss: 7.1359 - acc: 0.0141\n",
            "Saving checkpoint for epoch 10 at ./checkpoints_test/train/ckpt-2\n",
            "\n",
            "epoch 11/20\n",
            "832/797 [===============================] - 2s 2ms/step - loss: 7.0944 - acc: 0.0148\n",
            "\n",
            "epoch 12/20\n",
            "832/797 [===============================] - 1s 2ms/step - loss: 7.0514 - acc: 0.0155\n",
            "\n",
            "epoch 13/20\n",
            "832/797 [===============================] - 1s 2ms/step - loss: 7.0059 - acc: 0.0171\n",
            "\n",
            "epoch 14/20\n",
            "832/797 [===============================] - 1s 2ms/step - loss: 6.9579 - acc: 0.0186\n",
            "\n",
            "epoch 15/20\n",
            "832/797 [===============================] - 1s 2ms/step - loss: 6.9080 - acc: 0.0199\n",
            "Saving checkpoint for epoch 15 at ./checkpoints_test/train/ckpt-3\n",
            "\n",
            "epoch 16/20\n",
            "832/797 [===============================] - 2s 2ms/step - loss: 6.8567 - acc: 0.0210\n",
            "\n",
            "epoch 17/20\n",
            "832/797 [===============================] - 2s 2ms/step - loss: 6.8050 - acc: 0.0221\n",
            "\n",
            "epoch 18/20\n",
            "832/797 [===============================] - 1s 2ms/step - loss: 6.7528 - acc: 0.0231\n",
            "\n",
            "epoch 19/20\n",
            "832/797 [===============================] - 1s 1ms/step - loss: 6.7001 - acc: 0.0244\n",
            "\n",
            "epoch 20/20\n",
            "832/797 [===============================] - 1s 1ms/step - loss: 6.6465 - acc: 0.0261\n",
            "Saving checkpoint for epoch 20 at ./checkpoints_test/train/ckpt-4\n"
          ]
        }
      ],
      "source": [
        "EPOCHS = 20\n",
        "batch_size = 64\n",
        "metrics_names = ['loss', 'acc']\n",
        "train_loss.reset_states()\n",
        "train_accuracy.reset_states()\n",
        "for epoch in range(EPOCHS):\n",
        "    print(\"\\nepoch {}/{}\".format(epoch+1,EPOCHS))\n",
        "    pb_i = Progbar(train.shape[0], stateful_metrics=metrics_names)\n",
        "\n",
        "    # inp -> question, tar -> answer\n",
        "    for (batch, (inp, tar)) in enumerate(train_dataset):\n",
        "        train_step(inp, tar)\n",
        "\n",
        "        values=[('loss',train_loss.result()), ('acc',train_accuracy.result())]\n",
        "\n",
        "        pb_i.add(batch_size, values=values)\n",
        "    if (epoch + 1) % 5 == 0:\n",
        "        ckpt_save_path = ckpt_manager.save()\n",
        "        print ('Saving checkpoint for epoch {} at {}'.format(epoch+1,ckpt_save_path))"
      ]
    },
    {
      "cell_type": "code",
      "execution_count": null,
      "id": "addc165f",
      "metadata": {
        "colab": {
          "base_uri": "https://localhost:8080/"
        },
        "id": "addc165f",
        "outputId": "6f776eae-fa30-44dc-9583-8e1b6567bb7e"
      },
      "outputs": [
        {
          "output_type": "stream",
          "name": "stdout",
          "text": [
            "\n",
            "epoch 1/5\n",
            "832/797 [===============================] - 1s 1ms/step - loss: 6.5925 - acc: 0.0279\n",
            "\n",
            "epoch 2/5\n",
            "832/797 [===============================] - 1s 1ms/step - loss: 6.5383 - acc: 0.0299\n",
            "\n",
            "epoch 3/5\n",
            "832/797 [===============================] - 1s 1ms/step - loss: 6.4835 - acc: 0.0320\n",
            "\n",
            "epoch 4/5\n",
            "832/797 [===============================] - 1s 1ms/step - loss: 6.4287 - acc: 0.0342\n",
            "\n",
            "epoch 5/5\n",
            "832/797 [===============================] - 1s 2ms/step - loss: 6.3738 - acc: 0.0365\n",
            "Saving checkpoint for epoch 5 at ./checkpoints_test/train/ckpt-5\n"
          ]
        }
      ],
      "source": [
        "EPOCHS = 5\n",
        "batch_size = 64\n",
        "metrics_names = ['loss', 'acc']\n",
        "# train_loss.reset_states()\n",
        "# train_accuracy.reset_states()\n",
        "for epoch in range(EPOCHS):\n",
        "    print(\"\\nepoch {}/{}\".format(epoch+1,EPOCHS))\n",
        "    pb_i = Progbar(train.shape[0], stateful_metrics=metrics_names)\n",
        "\n",
        "    # inp -> question, tar -> answer\n",
        "    for (batch, (inp, tar)) in enumerate(train_dataset):\n",
        "        train_step(inp, tar)\n",
        "\n",
        "        values=[('loss',train_loss.result()), ('acc',train_accuracy.result())]\n",
        "\n",
        "        pb_i.add(batch_size, values=values)\n",
        "    if (epoch + 1) % 5 == 0:\n",
        "        ckpt_save_path = ckpt_manager.save()\n",
        "        print ('Saving checkpoint for epoch {} at {}'.format(epoch+1,ckpt_save_path))"
      ]
    },
    {
      "cell_type": "code",
      "execution_count": null,
      "id": "3c6542bc",
      "metadata": {
        "id": "3c6542bc"
      },
      "outputs": [],
      "source": [
        "MAX_LENGTH = 27\n",
        "def evaluate(inp_sentence):\n",
        "    start_token = [tokenizer_q.vocab_size]\n",
        "    end_token = [tokenizer_q.vocab_size + 1]\n",
        "\n",
        "    # inp sentence is portuguese, hence adding the start and end token\n",
        "    inp_sentence = start_token + tokenizer_q.encode(inp_sentence) + end_token\n",
        "    encoder_input = tf.expand_dims(inp_sentence, 0)\n",
        "\n",
        "    # as the target is english, the first word to the transformer should be the\n",
        "    # english start token.\n",
        "    decoder_input = [tokenizer_a.vocab_size]\n",
        "    output = tf.expand_dims(decoder_input, 0)\n",
        "\n",
        "    for i in range(MAX_LENGTH):\n",
        "        enc_padding_mask, combined_mask, dec_padding_mask = create_masks(\n",
        "            encoder_input, output)\n",
        "\n",
        "        # predictions.shape == (batch_size, seq_len, vocab_size)\n",
        "        predictions, attention_weights = transformer(encoder_input,\n",
        "                                                     output,\n",
        "                                                     False,\n",
        "                                                     enc_padding_mask,\n",
        "                                                     combined_mask,\n",
        "                                                     dec_padding_mask)\n",
        "\n",
        "        # select the last word from the seq_len dimension\n",
        "#         print(predictions.shape,\"aa\",predictions[: ,-1:, :].shape)\n",
        "        predictions = predictions[: ,-1:, :]  # (batch_size, 1, vocab_size)\n",
        "\n",
        "        predicted_id = tf.cast(tf.argmax(predictions, axis=-1), tf.int32)\n",
        "#         print(predicted_id, output)\n",
        "    # return the result if the predicted_id is equal to the end token\n",
        "        if predicted_id == tokenizer_a.vocab_size+1:\n",
        "            return tf.squeeze(output, axis=0), attention_weights\n",
        "\n",
        "    # concatentate the predicted_id to the output which is given to the decoder\n",
        "    # as its input.\n",
        "        output = tf.concat([output, predicted_id], axis=-1)\n",
        "\n",
        "    return tf.squeeze(output, axis=0), attention_weights"
      ]
    },
    {
      "cell_type": "code",
      "execution_count": null,
      "id": "dcfbf0c7",
      "metadata": {
        "id": "dcfbf0c7"
      },
      "outputs": [],
      "source": [
        "inp_sentence = \"i am doing great\"\n",
        "a, b = evaluate(inp_sentence)"
      ]
    },
    {
      "cell_type": "markdown",
      "id": "30d36412",
      "metadata": {
        "id": "30d36412"
      },
      "source": [
        "# RESULTS are ABSURD"
      ]
    },
    {
      "cell_type": "code",
      "execution_count": null,
      "id": "7ee9871b",
      "metadata": {
        "colab": {
          "base_uri": "https://localhost:8080/"
        },
        "id": "7ee9871b",
        "outputId": "b0af10b9-9fae-4ce2-baea-893c607958c8"
      },
      "outputs": [
        {
          "output_type": "stream",
          "name": "stdout",
          "text": [
            " \n",
            "We\n",
            "'\n",
            "d \n",
            "to \n",
            "to \n",
            "us \n",
            "to \n",
            "us \n",
            "to \n",
            "us \n",
            "us \n",
            "to \n",
            "us \n",
            "to \n",
            ". \n"
          ]
        }
      ],
      "source": [
        "for i in a[1:]:\n",
        "    print(tokenizer_a.decode([i]))"
      ]
    },
    {
      "cell_type": "markdown",
      "id": "c45aebc4",
      "metadata": {
        "id": "c45aebc4"
      },
      "source": [
        " ## Lets try with different hyperparameters"
      ]
    },
    {
      "cell_type": "code",
      "execution_count": null,
      "id": "a79abb08",
      "metadata": {
        "colab": {
          "base_uri": "https://localhost:8080/"
        },
        "id": "a79abb08",
        "outputId": "1c8845b4-d26b-4922-96a2-9941e7f82cba"
      },
      "outputs": [
        {
          "output_type": "stream",
          "name": "stdout",
          "text": [
            "Model: \"transformer_1\"\n",
            "_________________________________________________________________\n",
            " Layer (type)                Output Shape              Param #   \n",
            "=================================================================\n",
            " encoder_1 (Encoder)         multiple                  1052800   \n",
            "                                                                 \n",
            " decoder_1 (Decoder)         multiple                  1276032   \n",
            "                                                                 \n",
            " dense_135 (Dense)           multiple                  219429    \n",
            "                                                                 \n",
            "=================================================================\n",
            "Total params: 2548261 (9.72 MB)\n",
            "Trainable params: 2548261 (9.72 MB)\n",
            "Non-trainable params: 0 (0.00 Byte)\n",
            "_________________________________________________________________\n"
          ]
        }
      ],
      "source": [
        "num_layers = 4\n",
        "d_model = 128\n",
        "dff = 512\n",
        "num_heads = 8\n",
        "\n",
        "input_vocab_size = tokenizer_q.vocab_size + 2\n",
        "target_vocab_size = tokenizer_a.vocab_size + 2\n",
        "dropout_rate = 0.1\n",
        "temp_input = tf.random.uniform((64, 27), dtype=tf.int64, minval=0, maxval=200)\n",
        "temp_target = tf.random.uniform((64, 27), dtype=tf.int64, minval=0, maxval=200)\n",
        "\n",
        "fn_out, _ = sample_transformer(temp_input, temp_target, training=False,\n",
        "                               enc_padding_mask=None,\n",
        "                               look_ahead_mask=None,\n",
        "                               dec_padding_mask=None)\n",
        "\n",
        "fn_out.shape  # (batch_size, tar_seq_len, target_vocab_size)\n",
        "sample_transformer.summary()"
      ]
    },
    {
      "cell_type": "code",
      "execution_count": null,
      "id": "5709905a",
      "metadata": {
        "colab": {
          "base_uri": "https://localhost:8080/"
        },
        "id": "5709905a",
        "outputId": "b7bc3f39-ed3f-4ff7-fe12-5135d101f787"
      },
      "outputs": [
        {
          "output_type": "stream",
          "name": "stdout",
          "text": [
            "Model: \"transformer_3\"\n",
            "_________________________________________________________________\n",
            " Layer (type)                Output Shape              Param #   \n",
            "=================================================================\n",
            " encoder_3 (Encoder)         multiple                  1573632   \n",
            "                                                                 \n",
            " decoder_3 (Decoder)         multiple                  2017024   \n",
            "                                                                 \n",
            " dense_233 (Dense)           multiple                  437157    \n",
            "                                                                 \n",
            "=================================================================\n",
            "Total params: 4027813 (15.36 MB)\n",
            "Trainable params: 4027813 (15.36 MB)\n",
            "Non-trainable params: 0 (0.00 Byte)\n",
            "_________________________________________________________________\n"
          ]
        }
      ],
      "source": [
        "num_layers = 2\n",
        "d_model = 256\n",
        "dff = 512\n",
        "num_heads = 8\n",
        "input_vocab_size = tokenizer_q.vocab_size + 2\n",
        "target_vocab_size = tokenizer_a.vocab_size + 2\n",
        "dropout_rate = 0.1\n",
        "\n",
        "sample_transformer = Transformer(num_layers, d_model, num_heads, dff,\n",
        "                          input_vocab_size, target_vocab_size,\n",
        "                          pe_input=input_vocab_size,\n",
        "                          pe_target=target_vocab_size,\n",
        "                          rate=dropout_rate)\n",
        "\n",
        "temp_input = tf.random.uniform((64, 27), dtype=tf.int64, minval=0, maxval=200)\n",
        "temp_target = tf.random.uniform((64, 27), dtype=tf.int64, minval=0, maxval=200)\n",
        "\n",
        "fn_out, _ = sample_transformer(temp_input, temp_target, training=False,\n",
        "                               enc_padding_mask=None,\n",
        "                               look_ahead_mask=None,\n",
        "                               dec_padding_mask=None)\n",
        "sample_transformer.summary()"
      ]
    },
    {
      "cell_type": "markdown",
      "id": "17f5656e",
      "metadata": {
        "id": "17f5656e"
      },
      "source": [
        "### Now the trainable parameters has increased from 12M to 24M, Lets test this!!"
      ]
    },
    {
      "cell_type": "code",
      "execution_count": null,
      "id": "27d76c6e",
      "metadata": {
        "colab": {
          "base_uri": "https://localhost:8080/"
        },
        "id": "27d76c6e",
        "outputId": "f7b1536b-f9d6-496e-a681-a63e5bbb2c23"
      },
      "outputs": [
        {
          "output_type": "stream",
          "name": "stdout",
          "text": [
            "\n",
            "epoch 1/20\n",
            "832/797 [===============================] - 1s 2ms/step - loss: 4.9469 - acc: 0.0956\n",
            "\n",
            "epoch 2/20\n",
            "832/797 [===============================] - 1s 1ms/step - loss: 4.8990 - acc: 0.0978\n",
            "\n",
            "epoch 3/20\n",
            "832/797 [===============================] - 1s 1ms/step - loss: 4.8460 - acc: 0.0997\n",
            "\n",
            "epoch 4/20\n",
            "832/797 [===============================] - 1s 1ms/step - loss: 4.7914 - acc: 0.1027\n",
            "\n",
            "epoch 5/20\n",
            "832/797 [===============================] - 1s 1ms/step - loss: 4.7377 - acc: 0.1064\n",
            "Saving checkpoint for epoch 5 at ./checkpoints_test/train/ckpt-6\n",
            "\n",
            "epoch 6/20\n",
            "832/797 [===============================] - 1s 1ms/step - loss: 4.6830 - acc: 0.1096\n",
            "\n",
            "epoch 7/20\n",
            "832/797 [===============================] - 1s 1ms/step - loss: 4.6287 - acc: 0.1126\n",
            "\n",
            "epoch 8/20\n",
            "832/797 [===============================] - 1s 2ms/step - loss: 4.5757 - acc: 0.1156\n",
            "\n",
            "epoch 9/20\n",
            "832/797 [===============================] - 2s 2ms/step - loss: 4.5211 - acc: 0.1183\n",
            "\n",
            "epoch 10/20\n",
            "832/797 [===============================] - 1s 1ms/step - loss: 4.4661 - acc: 0.1218\n",
            "Saving checkpoint for epoch 10 at ./checkpoints_test/train/ckpt-7\n",
            "\n",
            "epoch 11/20\n",
            "832/797 [===============================] - 1s 1ms/step - loss: 4.4126 - acc: 0.1249\n",
            "\n",
            "epoch 12/20\n",
            "832/797 [===============================] - 1s 1ms/step - loss: 4.3597 - acc: 0.1277\n",
            "\n",
            "epoch 13/20\n",
            "832/797 [===============================] - 1s 1ms/step - loss: 4.3075 - acc: 0.1302\n",
            "\n",
            "epoch 14/20\n",
            "832/797 [===============================] - 1s 996us/step - loss: 4.2567 - acc: 0.1328\n",
            "\n",
            "epoch 15/20\n",
            "832/797 [===============================] - 1s 1ms/step - loss: 4.2069 - acc: 0.1351\n",
            "Saving checkpoint for epoch 15 at ./checkpoints_test/train/ckpt-8\n",
            "\n",
            "epoch 16/20\n",
            "832/797 [===============================] - 1s 1ms/step - loss: 4.1579 - acc: 0.1373\n",
            "\n",
            "epoch 17/20\n",
            "832/797 [===============================] - 1s 1ms/step - loss: 4.1099 - acc: 0.1397\n",
            "\n",
            "epoch 18/20\n",
            "832/797 [===============================] - 1s 2ms/step - loss: 4.0626 - acc: 0.1420\n",
            "\n",
            "epoch 19/20\n",
            "832/797 [===============================] - 1s 1ms/step - loss: 4.0161 - acc: 0.1442\n",
            "\n",
            "epoch 20/20\n",
            "832/797 [===============================] - 1s 2ms/step - loss: 3.9705 - acc: 0.1465\n",
            "Saving checkpoint for epoch 20 at ./checkpoints_test/train/ckpt-9\n"
          ]
        }
      ],
      "source": [
        "EPOCHS = 20\n",
        "batch_size = 64\n",
        "metrics_names = ['loss', 'acc']\n",
        "train_loss.reset_states()\n",
        "train_accuracy.reset_states()\n",
        "for epoch in range(EPOCHS):\n",
        "    print(\"\\nepoch {}/{}\".format(epoch+1,EPOCHS))\n",
        "    pb_i = Progbar(train.shape[0], stateful_metrics=metrics_names)\n",
        "\n",
        "    # inp -> question, tar -> answer\n",
        "    for (batch, (inp, tar)) in enumerate(train_dataset):\n",
        "        train_step(inp, tar)\n",
        "\n",
        "        values=[('loss',train_loss.result()), ('acc',train_accuracy.result())]\n",
        "\n",
        "        pb_i.add(batch_size, values=values)\n",
        "    if (epoch + 1) % 5 == 0:\n",
        "        ckpt_save_path = ckpt_manager.save()\n",
        "        print ('Saving checkpoint for epoch {} at {}'.format(epoch+1,ckpt_save_path))"
      ]
    },
    {
      "cell_type": "code",
      "execution_count": null,
      "id": "8990f5ec",
      "metadata": {
        "colab": {
          "base_uri": "https://localhost:8080/"
        },
        "id": "8990f5ec",
        "outputId": "96611221-01cf-441f-eb45-3ccd0e4f6c46"
      },
      "outputs": [
        {
          "output_type": "stream",
          "name": "stdout",
          "text": [
            "\n",
            "epoch 1/30\n",
            "832/797 [===============================] - 1s 1ms/step - loss: 3.9269 - acc: 0.1484\n",
            "\n",
            "epoch 2/30\n",
            "832/797 [===============================] - 1s 1ms/step - loss: 3.8835 - acc: 0.1503\n",
            "\n",
            "epoch 3/30\n",
            "832/797 [===============================] - 1s 1ms/step - loss: 3.8415 - acc: 0.1521\n",
            "\n",
            "epoch 4/30\n",
            "832/797 [===============================] - 1s 1ms/step - loss: 3.8000 - acc: 0.1541\n",
            "\n",
            "epoch 5/30\n",
            "832/797 [===============================] - 1s 1ms/step - loss: 3.7593 - acc: 0.1559\n",
            "Saving checkpoint for epoch 5 at ./checkpoints_test/train/ckpt-10\n",
            "\n",
            "epoch 6/30\n",
            "832/797 [===============================] - 1s 1ms/step - loss: 3.7194 - acc: 0.1579\n",
            "\n",
            "epoch 7/30\n",
            "832/797 [===============================] - 1s 1ms/step - loss: 3.6808 - acc: 0.1596\n",
            "\n",
            "epoch 8/30\n",
            "832/797 [===============================] - 1s 1ms/step - loss: 3.6431 - acc: 0.1615\n",
            "\n",
            "epoch 9/30\n",
            "832/797 [===============================] - 2s 2ms/step - loss: 3.6056 - acc: 0.1635\n",
            "\n",
            "epoch 10/30\n",
            "832/797 [===============================] - 2s 2ms/step - loss: 3.5691 - acc: 0.1653\n",
            "Saving checkpoint for epoch 10 at ./checkpoints_test/train/ckpt-11\n",
            "\n",
            "epoch 11/30\n",
            "832/797 [===============================] - 1s 1ms/step - loss: 3.5329 - acc: 0.1672\n",
            "\n",
            "epoch 12/30\n",
            "832/797 [===============================] - 1s 968us/step - loss: 3.4976 - acc: 0.1690\n",
            "\n",
            "epoch 13/30\n",
            "832/797 [===============================] - 1s 1ms/step - loss: 3.4635 - acc: 0.1707\n",
            "\n",
            "epoch 14/30\n",
            "832/797 [===============================] - 1s 983us/step - loss: 3.4298 - acc: 0.1723\n",
            "\n",
            "epoch 15/30\n",
            "832/797 [===============================] - 1s 1ms/step - loss: 3.3966 - acc: 0.1740\n",
            "Saving checkpoint for epoch 15 at ./checkpoints_test/train/ckpt-12\n",
            "\n",
            "epoch 16/30\n",
            "832/797 [===============================] - 1s 1ms/step - loss: 3.3644 - acc: 0.1755\n",
            "\n",
            "epoch 17/30\n",
            "832/797 [===============================] - 1s 1ms/step - loss: 3.3325 - acc: 0.1771\n",
            "\n",
            "epoch 18/30\n",
            "832/797 [===============================] - 1s 1ms/step - loss: 3.3011 - acc: 0.1788\n",
            "\n",
            "epoch 19/30\n",
            "832/797 [===============================] - 1s 2ms/step - loss: 3.2702 - acc: 0.1803\n",
            "\n",
            "epoch 20/30\n",
            "832/797 [===============================] - 1s 1ms/step - loss: 3.2400 - acc: 0.1820\n",
            "Saving checkpoint for epoch 20 at ./checkpoints_test/train/ckpt-13\n",
            "\n",
            "epoch 21/30\n",
            "832/797 [===============================] - 1s 1ms/step - loss: 3.2102 - acc: 0.1837\n",
            "\n",
            "epoch 22/30\n",
            "832/797 [===============================] - 1s 1ms/step - loss: 3.1808 - acc: 0.1854\n",
            "\n",
            "epoch 23/30\n",
            "832/797 [===============================] - 1s 1ms/step - loss: 3.1519 - acc: 0.1870\n",
            "\n",
            "epoch 24/30\n",
            "832/797 [===============================] - 1s 1ms/step - loss: 3.1232 - acc: 0.1887\n",
            "\n",
            "epoch 25/30\n",
            "832/797 [===============================] - 1s 1ms/step - loss: 3.0953 - acc: 0.1902\n",
            "Saving checkpoint for epoch 25 at ./checkpoints_test/train/ckpt-14\n",
            "\n",
            "epoch 26/30\n",
            "832/797 [===============================] - 1s 1ms/step - loss: 3.0679 - acc: 0.1915\n",
            "\n",
            "epoch 27/30\n",
            "832/797 [===============================] - 1s 961us/step - loss: 3.0405 - acc: 0.1931\n",
            "\n",
            "epoch 28/30\n",
            "832/797 [===============================] - 1s 1ms/step - loss: 3.0137 - acc: 0.1946\n",
            "\n",
            "epoch 29/30\n",
            "832/797 [===============================] - 1s 1ms/step - loss: 2.9873 - acc: 0.1961\n",
            "\n",
            "epoch 30/30\n",
            "832/797 [===============================] - 1s 1ms/step - loss: 2.9610 - acc: 0.1977\n",
            "Saving checkpoint for epoch 30 at ./checkpoints_test/train/ckpt-15\n"
          ]
        }
      ],
      "source": [
        "EPOCHS = 30\n",
        "batch_size = 64\n",
        "metrics_names = ['loss', 'acc']\n",
        "# train_loss.reset_states()\n",
        "# train_accuracy.reset_states()\n",
        "for epoch in range(EPOCHS):\n",
        "    print(\"\\nepoch {}/{}\".format(epoch+1,EPOCHS))\n",
        "    pb_i = Progbar(train.shape[0], stateful_metrics=metrics_names)\n",
        "\n",
        "    # inp -> question, tar -> answer\n",
        "    for (batch, (inp, tar)) in enumerate(train_dataset):\n",
        "        train_step(inp, tar)\n",
        "\n",
        "        values=[('loss',train_loss.result()), ('acc',train_accuracy.result())]\n",
        "\n",
        "        pb_i.add(batch_size, values=values)\n",
        "    if (epoch + 1) % 5 == 0:\n",
        "        ckpt_save_path = ckpt_manager.save()\n",
        "        print ('Saving checkpoint for epoch {} at {}'.format(epoch+1,ckpt_save_path))"
      ]
    },
    {
      "cell_type": "markdown",
      "id": "e364afa5",
      "metadata": {
        "id": "e364afa5"
      },
      "source": [
        "## Learning is slow, but not stagnant (-__-)"
      ]
    },
    {
      "cell_type": "code",
      "execution_count": null,
      "id": "47943fa8",
      "metadata": {
        "colab": {
          "base_uri": "https://localhost:8080/"
        },
        "id": "47943fa8",
        "outputId": "9e609fa1-bd14-4d92-858a-7187c90f908e"
      },
      "outputs": [
        {
          "output_type": "stream",
          "name": "stdout",
          "text": [
            "\n",
            "epoch 51/100\n",
            "832/797 [===============================] - 1s 1ms/step - loss: 2.9351 - acc: 0.1992\n",
            "\n",
            "epoch 52/100\n",
            "832/797 [===============================] - 1s 2ms/step - loss: 2.9095 - acc: 0.2007\n",
            "\n",
            "epoch 53/100\n",
            "832/797 [===============================] - 1s 1ms/step - loss: 2.8844 - acc: 0.2024\n",
            "\n",
            "epoch 54/100\n",
            "832/797 [===============================] - 1s 1ms/step - loss: 2.8596 - acc: 0.2039\n",
            "\n",
            "epoch 55/100\n",
            "832/797 [===============================] - 1s 1ms/step - loss: 2.8348 - acc: 0.2054\n",
            "Saving checkpoint for epoch 55 at ./checkpoints_test/train/ckpt-16\n",
            "\n",
            "epoch 56/100\n",
            "832/797 [===============================] - 1s 1ms/step - loss: 2.8104 - acc: 0.2069\n",
            "\n",
            "epoch 57/100\n",
            "832/797 [===============================] - 1s 1ms/step - loss: 2.7864 - acc: 0.2084\n",
            "\n",
            "epoch 58/100\n",
            "832/797 [===============================] - 1s 1ms/step - loss: 2.7625 - acc: 0.2099\n",
            "\n",
            "epoch 59/100\n",
            "832/797 [===============================] - 1s 1ms/step - loss: 2.7391 - acc: 0.2113\n",
            "\n",
            "epoch 60/100\n",
            "832/797 [===============================] - 1s 2ms/step - loss: 2.7157 - acc: 0.2127\n",
            "Saving checkpoint for epoch 60 at ./checkpoints_test/train/ckpt-17\n",
            "\n",
            "epoch 61/100\n",
            "832/797 [===============================] - 1s 2ms/step - loss: 2.6924 - acc: 0.2141\n",
            "\n",
            "epoch 62/100\n",
            "832/797 [===============================] - 1s 1ms/step - loss: 2.6693 - acc: 0.2156\n",
            "\n",
            "epoch 63/100\n",
            "832/797 [===============================] - 1s 1ms/step - loss: 2.6465 - acc: 0.2170\n",
            "\n",
            "epoch 64/100\n",
            "832/797 [===============================] - 1s 937us/step - loss: 2.6238 - acc: 0.2186\n",
            "\n",
            "epoch 65/100\n",
            "832/797 [===============================] - 1s 987us/step - loss: 2.6015 - acc: 0.2200\n",
            "Saving checkpoint for epoch 65 at ./checkpoints_test/train/ckpt-18\n",
            "\n",
            "epoch 66/100\n",
            "832/797 [===============================] - 1s 1ms/step - loss: 2.5793 - acc: 0.2214\n",
            "\n",
            "epoch 67/100\n",
            "832/797 [===============================] - 1s 1ms/step - loss: 2.5573 - acc: 0.2229\n",
            "\n",
            "epoch 68/100\n",
            "832/797 [===============================] - 1s 957us/step - loss: 2.5354 - acc: 0.2243\n",
            "\n",
            "epoch 69/100\n",
            "832/797 [===============================] - 1s 1ms/step - loss: 2.5137 - acc: 0.2258\n",
            "\n",
            "epoch 70/100\n",
            "832/797 [===============================] - 1s 1ms/step - loss: 2.4921 - acc: 0.2272\n",
            "Saving checkpoint for epoch 70 at ./checkpoints_test/train/ckpt-19\n",
            "\n",
            "epoch 71/100\n",
            "832/797 [===============================] - 1s 2ms/step - loss: 2.4708 - acc: 0.2288\n",
            "\n",
            "epoch 72/100\n",
            "832/797 [===============================] - 1s 962us/step - loss: 2.4496 - acc: 0.2302\n",
            "\n",
            "epoch 73/100\n",
            "832/797 [===============================] - 1s 1ms/step - loss: 2.4286 - acc: 0.2317\n",
            "\n",
            "epoch 74/100\n",
            "832/797 [===============================] - 1s 1ms/step - loss: 2.4077 - acc: 0.2331\n",
            "\n",
            "epoch 75/100\n",
            "832/797 [===============================] - 1s 959us/step - loss: 2.3870 - acc: 0.2346\n",
            "Saving checkpoint for epoch 75 at ./checkpoints_test/train/ckpt-20\n",
            "\n",
            "epoch 76/100\n",
            "832/797 [===============================] - 1s 1ms/step - loss: 2.3665 - acc: 0.2361\n",
            "\n",
            "epoch 77/100\n",
            "832/797 [===============================] - 1s 940us/step - loss: 2.3463 - acc: 0.2376\n",
            "\n",
            "epoch 78/100\n",
            "832/797 [===============================] - 1s 956us/step - loss: 2.3262 - acc: 0.2392\n",
            "\n",
            "epoch 79/100\n",
            "832/797 [===============================] - 1s 936us/step - loss: 2.3064 - acc: 0.2407\n",
            "\n",
            "epoch 80/100\n",
            "832/797 [===============================] - 1s 1ms/step - loss: 2.2866 - acc: 0.2421\n",
            "Saving checkpoint for epoch 80 at ./checkpoints_test/train/ckpt-21\n",
            "\n",
            "epoch 81/100\n",
            "832/797 [===============================] - 1s 1ms/step - loss: 2.2670 - acc: 0.2435\n",
            "\n",
            "epoch 82/100\n",
            "832/797 [===============================] - 1s 2ms/step - loss: 2.2475 - acc: 0.2450\n",
            "\n",
            "epoch 83/100\n",
            "832/797 [===============================] - 1s 1ms/step - loss: 2.2283 - acc: 0.2465\n",
            "\n",
            "epoch 84/100\n",
            "832/797 [===============================] - 1s 1ms/step - loss: 2.2092 - acc: 0.2480\n",
            "\n",
            "epoch 85/100\n",
            "832/797 [===============================] - 1s 1ms/step - loss: 2.1904 - acc: 0.2494\n",
            "Saving checkpoint for epoch 85 at ./checkpoints_test/train/ckpt-22\n",
            "\n",
            "epoch 86/100\n",
            "832/797 [===============================] - 1s 1ms/step - loss: 2.1716 - acc: 0.2509\n",
            "\n",
            "epoch 87/100\n",
            "832/797 [===============================] - 1s 950us/step - loss: 2.1529 - acc: 0.2524\n",
            "\n",
            "epoch 88/100\n",
            "832/797 [===============================] - 1s 1ms/step - loss: 2.1344 - acc: 0.2539\n",
            "\n",
            "epoch 89/100\n",
            "832/797 [===============================] - 1s 1ms/step - loss: 2.1161 - acc: 0.2554\n",
            "\n",
            "epoch 90/100\n",
            "832/797 [===============================] - 1s 968us/step - loss: 2.0980 - acc: 0.2568\n",
            "Saving checkpoint for epoch 90 at ./checkpoints_test/train/ckpt-23\n",
            "\n",
            "epoch 91/100\n",
            "832/797 [===============================] - 1s 1ms/step - loss: 2.0801 - acc: 0.2582\n",
            "\n",
            "epoch 92/100\n",
            "832/797 [===============================] - 1s 2ms/step - loss: 2.0622 - acc: 0.2596\n",
            "\n",
            "epoch 93/100\n",
            "832/797 [===============================] - 1s 2ms/step - loss: 2.0447 - acc: 0.2610\n",
            "\n",
            "epoch 94/100\n",
            "832/797 [===============================] - 1s 925us/step - loss: 2.0273 - acc: 0.2624\n",
            "\n",
            "epoch 95/100\n",
            "832/797 [===============================] - 1s 955us/step - loss: 2.0099 - acc: 0.2637\n",
            "Saving checkpoint for epoch 95 at ./checkpoints_test/train/ckpt-24\n",
            "\n",
            "epoch 96/100\n",
            "832/797 [===============================] - 1s 1ms/step - loss: 1.9929 - acc: 0.2651\n",
            "\n",
            "epoch 97/100\n",
            "832/797 [===============================] - 1s 960us/step - loss: 1.9760 - acc: 0.2664\n",
            "\n",
            "epoch 98/100\n",
            "832/797 [===============================] - 1s 1ms/step - loss: 1.9594 - acc: 0.2678\n",
            "\n",
            "epoch 99/100\n",
            "832/797 [===============================] - 1s 1ms/step - loss: 1.9428 - acc: 0.2692\n",
            "\n",
            "epoch 100/100\n",
            "832/797 [===============================] - 1s 967us/step - loss: 1.9265 - acc: 0.2705\n",
            "Saving checkpoint for epoch 100 at ./checkpoints_test/train/ckpt-25\n"
          ]
        }
      ],
      "source": [
        "EPOCHS = 100\n",
        "batch_size = 64\n",
        "metrics_names = ['loss', 'acc']\n",
        "# train_loss.reset_states()\n",
        "# train_accuracy.reset_states()\n",
        "for epoch in range(50, EPOCHS):\n",
        "    print(\"\\nepoch {}/{}\".format(epoch+1,EPOCHS))\n",
        "    pb_i = Progbar(train.shape[0], stateful_metrics=metrics_names)\n",
        "\n",
        "    # inp -> question, tar -> answer\n",
        "    for (batch, (inp, tar)) in enumerate(train_dataset):\n",
        "        train_step(inp, tar)\n",
        "\n",
        "        values=[('loss',train_loss.result()), ('acc',train_accuracy.result())]\n",
        "\n",
        "        pb_i.add(batch_size, values=values)\n",
        "    if (epoch + 1) % 5 == 0:\n",
        "        ckpt_save_path = ckpt_manager.save()\n",
        "        print ('Saving checkpoint for epoch {} at {}'.format(epoch+1,ckpt_save_path))"
      ]
    },
    {
      "cell_type": "code",
      "execution_count": null,
      "id": "c533244c",
      "metadata": {
        "colab": {
          "base_uri": "https://localhost:8080/"
        },
        "id": "c533244c",
        "outputId": "44d76904-ad19-429e-8dc8-f68b42f9b708"
      },
      "outputs": [
        {
          "output_type": "stream",
          "name": "stdout",
          "text": [
            "\n",
            "epoch 101/150\n",
            "832/797 [===============================] - 1s 972us/step - loss: 1.9104 - acc: 0.2718\n",
            "\n",
            "epoch 102/150\n",
            "832/797 [===============================] - 1s 2ms/step - loss: 1.8945 - acc: 0.2732\n",
            "\n",
            "epoch 103/150\n",
            "832/797 [===============================] - 1s 2ms/step - loss: 1.8788 - acc: 0.2746\n",
            "\n",
            "epoch 104/150\n",
            "832/797 [===============================] - 1s 1ms/step - loss: 1.8632 - acc: 0.2759\n",
            "\n",
            "epoch 105/150\n",
            "832/797 [===============================] - 1s 947us/step - loss: 1.8479 - acc: 0.2772\n",
            "Saving checkpoint for epoch 105 at ./checkpoints_test/train/ckpt-26\n",
            "\n",
            "epoch 106/150\n",
            "832/797 [===============================] - 1s 1ms/step - loss: 1.8327 - acc: 0.2784\n",
            "\n",
            "epoch 107/150\n",
            "832/797 [===============================] - 1s 1ms/step - loss: 1.8177 - acc: 0.2796\n",
            "\n",
            "epoch 108/150\n",
            "832/797 [===============================] - 1s 957us/step - loss: 1.8030 - acc: 0.2808\n",
            "\n",
            "epoch 109/150\n",
            "832/797 [===============================] - 1s 1ms/step - loss: 1.7884 - acc: 0.2821\n",
            "\n",
            "epoch 110/150\n",
            "832/797 [===============================] - 1s 1ms/step - loss: 1.7739 - acc: 0.2832\n",
            "Saving checkpoint for epoch 110 at ./checkpoints_test/train/ckpt-27\n",
            "\n",
            "epoch 111/150\n",
            "832/797 [===============================] - 1s 1ms/step - loss: 1.7596 - acc: 0.2845\n",
            "\n",
            "epoch 112/150\n",
            "832/797 [===============================] - 1s 1ms/step - loss: 1.7456 - acc: 0.2858\n",
            "\n",
            "epoch 113/150\n",
            "832/797 [===============================] - 1s 1ms/step - loss: 1.7317 - acc: 0.2869\n",
            "\n",
            "epoch 114/150\n",
            "832/797 [===============================] - 1s 2ms/step - loss: 1.7180 - acc: 0.2880\n",
            "\n",
            "epoch 115/150\n",
            "832/797 [===============================] - 1s 1ms/step - loss: 1.7046 - acc: 0.2892\n",
            "Saving checkpoint for epoch 115 at ./checkpoints_test/train/ckpt-28\n",
            "\n",
            "epoch 116/150\n",
            "832/797 [===============================] - 1s 927us/step - loss: 1.6913 - acc: 0.2903\n",
            "\n",
            "epoch 117/150\n",
            "832/797 [===============================] - 1s 949us/step - loss: 1.6781 - acc: 0.2914\n",
            "\n",
            "epoch 118/150\n",
            "832/797 [===============================] - 1s 991us/step - loss: 1.6652 - acc: 0.2924\n",
            "\n",
            "epoch 119/150\n",
            "832/797 [===============================] - 1s 962us/step - loss: 1.6524 - acc: 0.2934\n",
            "\n",
            "epoch 120/150\n",
            "832/797 [===============================] - 1s 969us/step - loss: 1.6398 - acc: 0.2944\n",
            "Saving checkpoint for epoch 120 at ./checkpoints_test/train/ckpt-29\n",
            "\n",
            "epoch 121/150\n",
            "832/797 [===============================] - 1s 989us/step - loss: 1.6274 - acc: 0.2954\n",
            "\n",
            "epoch 122/150\n",
            "832/797 [===============================] - 1s 967us/step - loss: 1.6152 - acc: 0.2964\n",
            "\n",
            "epoch 123/150\n",
            "832/797 [===============================] - 1s 1ms/step - loss: 1.6031 - acc: 0.2974\n",
            "\n",
            "epoch 124/150\n",
            "832/797 [===============================] - 1s 2ms/step - loss: 1.5911 - acc: 0.2983\n",
            "\n",
            "epoch 125/150\n",
            "832/797 [===============================] - 1s 1ms/step - loss: 1.5793 - acc: 0.2992\n",
            "Saving checkpoint for epoch 125 at ./checkpoints_test/train/ckpt-30\n",
            "\n",
            "epoch 126/150\n",
            "832/797 [===============================] - 1s 1ms/step - loss: 1.5677 - acc: 0.3001\n",
            "\n",
            "epoch 127/150\n",
            "832/797 [===============================] - 1s 960us/step - loss: 1.5562 - acc: 0.3011\n",
            "\n",
            "epoch 128/150\n",
            "832/797 [===============================] - 1s 1ms/step - loss: 1.5449 - acc: 0.3021\n",
            "\n",
            "epoch 129/150\n",
            "832/797 [===============================] - 1s 966us/step - loss: 1.5337 - acc: 0.3029\n",
            "\n",
            "epoch 130/150\n",
            "832/797 [===============================] - 1s 965us/step - loss: 1.5227 - acc: 0.3038\n",
            "Saving checkpoint for epoch 130 at ./checkpoints_test/train/ckpt-31\n",
            "\n",
            "epoch 131/150\n",
            "832/797 [===============================] - 1s 1ms/step - loss: 1.5119 - acc: 0.3047\n",
            "\n",
            "epoch 132/150\n",
            "832/797 [===============================] - 1s 1ms/step - loss: 1.5012 - acc: 0.3055\n",
            "\n",
            "epoch 133/150\n",
            "832/797 [===============================] - 1s 1ms/step - loss: 1.4906 - acc: 0.3064\n",
            "\n",
            "epoch 134/150\n",
            "832/797 [===============================] - 1s 2ms/step - loss: 1.4801 - acc: 0.3073\n",
            "\n",
            "epoch 135/150\n",
            "832/797 [===============================] - 1s 1ms/step - loss: 1.4699 - acc: 0.3082\n",
            "Saving checkpoint for epoch 135 at ./checkpoints_test/train/ckpt-32\n",
            "\n",
            "epoch 136/150\n",
            "832/797 [===============================] - 1s 1ms/step - loss: 1.4598 - acc: 0.3090\n",
            "\n",
            "epoch 137/150\n",
            "832/797 [===============================] - 1s 1ms/step - loss: 1.4498 - acc: 0.3098\n",
            "\n",
            "epoch 138/150\n",
            "832/797 [===============================] - 1s 927us/step - loss: 1.4399 - acc: 0.3106\n",
            "\n",
            "epoch 139/150\n",
            "832/797 [===============================] - 1s 1ms/step - loss: 1.4301 - acc: 0.3114\n",
            "\n",
            "epoch 140/150\n",
            "832/797 [===============================] - 1s 983us/step - loss: 1.4205 - acc: 0.3122\n",
            "Saving checkpoint for epoch 140 at ./checkpoints_test/train/ckpt-33\n",
            "\n",
            "epoch 141/150\n",
            "832/797 [===============================] - 1s 1ms/step - loss: 1.4110 - acc: 0.3130\n",
            "\n",
            "epoch 142/150\n",
            "832/797 [===============================] - 1s 975us/step - loss: 1.4017 - acc: 0.3137\n",
            "\n",
            "epoch 143/150\n",
            "832/797 [===============================] - 1s 1ms/step - loss: 1.3925 - acc: 0.3144\n",
            "\n",
            "epoch 144/150\n",
            "832/797 [===============================] - 1s 972us/step - loss: 1.3834 - acc: 0.3152\n",
            "\n",
            "epoch 145/150\n",
            "832/797 [===============================] - 1s 1ms/step - loss: 1.3745 - acc: 0.3160\n",
            "Saving checkpoint for epoch 145 at ./checkpoints_test/train/ckpt-34\n",
            "\n",
            "epoch 146/150\n",
            "832/797 [===============================] - 1s 1ms/step - loss: 1.3656 - acc: 0.3168\n",
            "\n",
            "epoch 147/150\n",
            "832/797 [===============================] - 1s 1ms/step - loss: 1.3568 - acc: 0.3174\n",
            "\n",
            "epoch 148/150\n",
            "832/797 [===============================] - 1s 2ms/step - loss: 1.3482 - acc: 0.3181\n",
            "\n",
            "epoch 149/150\n",
            "832/797 [===============================] - 1s 975us/step - loss: 1.3398 - acc: 0.3189\n",
            "\n",
            "epoch 150/150\n",
            "832/797 [===============================] - 1s 1ms/step - loss: 1.3314 - acc: 0.3196\n",
            "Saving checkpoint for epoch 150 at ./checkpoints_test/train/ckpt-35\n"
          ]
        }
      ],
      "source": [
        "EPOCHS = 150\n",
        "batch_size = 64\n",
        "metrics_names = ['loss', 'acc']\n",
        "# train_loss.reset_states()\n",
        "# train_accuracy.reset_states()\n",
        "for epoch in range(100, EPOCHS):\n",
        "    print(\"\\nepoch {}/{}\".format(epoch+1,EPOCHS))\n",
        "    pb_i = Progbar(train.shape[0], stateful_metrics=metrics_names)\n",
        "\n",
        "    # inp -> question, tar -> answer\n",
        "    for (batch, (inp, tar)) in enumerate(train_dataset):\n",
        "        train_step(inp, tar)\n",
        "\n",
        "        values=[('loss',train_loss.result()), ('acc',train_accuracy.result())]\n",
        "\n",
        "        pb_i.add(batch_size, values=values)\n",
        "    if (epoch + 1) % 5 == 0:\n",
        "        ckpt_save_path = ckpt_manager.save()\n",
        "        print ('Saving checkpoint for epoch {} at {}'.format(epoch+1,ckpt_save_path))"
      ]
    },
    {
      "cell_type": "code",
      "execution_count": null,
      "id": "7ebb9b2d",
      "metadata": {
        "colab": {
          "base_uri": "https://localhost:8080/"
        },
        "id": "7ebb9b2d",
        "outputId": "052407e7-ccae-40c4-9dc8-7c0c9004c25e"
      },
      "outputs": [
        {
          "output_type": "stream",
          "name": "stdout",
          "text": [
            "\n",
            "epoch 151/200\n",
            "832/797 [===============================] - 1s 986us/step - loss: 1.3231 - acc: 0.3202\n",
            "\n",
            "epoch 152/200\n",
            "832/797 [===============================] - 1s 999us/step - loss: 1.3149 - acc: 0.3209\n",
            "\n",
            "epoch 153/200\n",
            "832/797 [===============================] - 1s 959us/step - loss: 1.3068 - acc: 0.3215\n",
            "\n",
            "epoch 154/200\n",
            "832/797 [===============================] - 1s 1ms/step - loss: 1.2987 - acc: 0.3222\n",
            "\n",
            "epoch 155/200\n",
            "832/797 [===============================] - 1s 1ms/step - loss: 1.2908 - acc: 0.3228\n",
            "Saving checkpoint for epoch 155 at ./checkpoints_test/train/ckpt-36\n",
            "\n",
            "epoch 156/200\n",
            "832/797 [===============================] - 1s 957us/step - loss: 1.2831 - acc: 0.3234\n",
            "\n",
            "epoch 157/200\n",
            "832/797 [===============================] - 1s 2ms/step - loss: 1.2753 - acc: 0.3241\n",
            "\n",
            "epoch 158/200\n",
            "832/797 [===============================] - 1s 1ms/step - loss: 1.2677 - acc: 0.3248\n",
            "\n",
            "epoch 159/200\n",
            "832/797 [===============================] - 1s 1ms/step - loss: 1.2601 - acc: 0.3254\n",
            "\n",
            "epoch 160/200\n",
            "832/797 [===============================] - 1s 944us/step - loss: 1.2526 - acc: 0.3260\n",
            "Saving checkpoint for epoch 160 at ./checkpoints_test/train/ckpt-37\n",
            "\n",
            "epoch 161/200\n",
            "832/797 [===============================] - 1s 972us/step - loss: 1.2452 - acc: 0.3266\n",
            "\n",
            "epoch 162/200\n",
            "832/797 [===============================] - 1s 1ms/step - loss: 1.2379 - acc: 0.3272\n",
            "\n",
            "epoch 163/200\n",
            "832/797 [===============================] - 1s 962us/step - loss: 1.2307 - acc: 0.3278\n",
            "\n",
            "epoch 164/200\n",
            "832/797 [===============================] - 1s 991us/step - loss: 1.2236 - acc: 0.3284\n",
            "\n",
            "epoch 165/200\n",
            "832/797 [===============================] - 1s 1ms/step - loss: 1.2166 - acc: 0.3289\n",
            "Saving checkpoint for epoch 165 at ./checkpoints_test/train/ckpt-38\n",
            "\n",
            "epoch 166/200\n",
            "832/797 [===============================] - 1s 1ms/step - loss: 1.2097 - acc: 0.3294\n",
            "\n",
            "epoch 167/200\n",
            "832/797 [===============================] - 1s 1ms/step - loss: 1.2029 - acc: 0.3299\n",
            "\n",
            "epoch 168/200\n",
            "832/797 [===============================] - 1s 2ms/step - loss: 1.1961 - acc: 0.3304\n",
            "\n",
            "epoch 169/200\n",
            "832/797 [===============================] - 1s 1ms/step - loss: 1.1894 - acc: 0.3310\n",
            "\n",
            "epoch 170/200\n",
            "832/797 [===============================] - 1s 1ms/step - loss: 1.1827 - acc: 0.3315\n",
            "Saving checkpoint for epoch 170 at ./checkpoints_test/train/ckpt-39\n",
            "\n",
            "epoch 171/200\n",
            "832/797 [===============================] - 1s 963us/step - loss: 1.1762 - acc: 0.3320\n",
            "\n",
            "epoch 172/200\n",
            "832/797 [===============================] - 1s 958us/step - loss: 1.1696 - acc: 0.3326\n",
            "\n",
            "epoch 173/200\n",
            "832/797 [===============================] - 1s 967us/step - loss: 1.1632 - acc: 0.3331\n",
            "\n",
            "epoch 174/200\n",
            "832/797 [===============================] - 1s 1ms/step - loss: 1.1569 - acc: 0.3336\n",
            "\n",
            "epoch 175/200\n",
            "832/797 [===============================] - 1s 1ms/step - loss: 1.1506 - acc: 0.3342\n",
            "Saving checkpoint for epoch 175 at ./checkpoints_test/train/ckpt-40\n",
            "\n",
            "epoch 176/200\n",
            "832/797 [===============================] - 1s 1ms/step - loss: 1.1444 - acc: 0.3347\n",
            "\n",
            "epoch 177/200\n",
            "832/797 [===============================] - 1s 959us/step - loss: 1.1383 - acc: 0.3352\n",
            "\n",
            "epoch 178/200\n",
            "832/797 [===============================] - 1s 2ms/step - loss: 1.1323 - acc: 0.3357\n",
            "\n",
            "epoch 179/200\n",
            "832/797 [===============================] - 1s 2ms/step - loss: 1.1263 - acc: 0.3362\n",
            "\n",
            "epoch 180/200\n",
            "832/797 [===============================] - 1s 1ms/step - loss: 1.1204 - acc: 0.3367\n",
            "Saving checkpoint for epoch 180 at ./checkpoints_test/train/ckpt-41\n",
            "\n",
            "epoch 181/200\n",
            "832/797 [===============================] - 1s 1ms/step - loss: 1.1145 - acc: 0.3372\n",
            "\n",
            "epoch 182/200\n",
            "832/797 [===============================] - 1s 912us/step - loss: 1.1088 - acc: 0.3376\n",
            "\n",
            "epoch 183/200\n",
            "832/797 [===============================] - 1s 1ms/step - loss: 1.1030 - acc: 0.3381\n",
            "\n",
            "epoch 184/200\n",
            "832/797 [===============================] - 1s 955us/step - loss: 1.0973 - acc: 0.3386\n",
            "\n",
            "epoch 185/200\n",
            "832/797 [===============================] - 1s 973us/step - loss: 1.0916 - acc: 0.3391\n",
            "Saving checkpoint for epoch 185 at ./checkpoints_test/train/ckpt-42\n",
            "\n",
            "epoch 186/200\n",
            "832/797 [===============================] - 1s 937us/step - loss: 1.0861 - acc: 0.3395\n",
            "\n",
            "epoch 187/200\n",
            "832/797 [===============================] - 1s 956us/step - loss: 1.0806 - acc: 0.3399\n",
            "\n",
            "epoch 188/200\n",
            "832/797 [===============================] - 1s 1ms/step - loss: 1.0751 - acc: 0.3404\n",
            "\n",
            "epoch 189/200\n",
            "832/797 [===============================] - 1s 2ms/step - loss: 1.0697 - acc: 0.3408\n",
            "\n",
            "epoch 190/200\n",
            "832/797 [===============================] - 1s 1ms/step - loss: 1.0644 - acc: 0.3412\n",
            "Saving checkpoint for epoch 190 at ./checkpoints_test/train/ckpt-43\n",
            "\n",
            "epoch 191/200\n",
            "832/797 [===============================] - 1s 1ms/step - loss: 1.0591 - acc: 0.3416\n",
            "\n",
            "epoch 192/200\n",
            "832/797 [===============================] - 1s 1ms/step - loss: 1.0540 - acc: 0.3421\n",
            "\n",
            "epoch 193/200\n",
            "832/797 [===============================] - 1s 942us/step - loss: 1.0488 - acc: 0.3425\n",
            "\n",
            "epoch 194/200\n",
            "832/797 [===============================] - 1s 954us/step - loss: 1.0437 - acc: 0.3429\n",
            "\n",
            "epoch 195/200\n",
            "832/797 [===============================] - 1s 960us/step - loss: 1.0386 - acc: 0.3434\n",
            "Saving checkpoint for epoch 195 at ./checkpoints_test/train/ckpt-44\n",
            "\n",
            "epoch 196/200\n",
            "832/797 [===============================] - 1s 1ms/step - loss: 1.0336 - acc: 0.3437\n",
            "\n",
            "epoch 197/200\n",
            "832/797 [===============================] - 1s 954us/step - loss: 1.0286 - acc: 0.3442\n",
            "\n",
            "epoch 198/200\n",
            "832/797 [===============================] - 1s 1ms/step - loss: 1.0237 - acc: 0.3446\n",
            "\n",
            "epoch 199/200\n",
            "832/797 [===============================] - 1s 970us/step - loss: 1.0188 - acc: 0.3450\n",
            "\n",
            "epoch 200/200\n",
            "832/797 [===============================] - 1s 1ms/step - loss: 1.0140 - acc: 0.3454\n",
            "Saving checkpoint for epoch 200 at ./checkpoints_test/train/ckpt-45\n"
          ]
        }
      ],
      "source": [
        "EPOCHS = 200\n",
        "batch_size = 64\n",
        "metrics_names = ['loss', 'acc']\n",
        "# train_loss.reset_states()\n",
        "# train_accuracy.reset_states()\n",
        "for epoch in range(150, EPOCHS):\n",
        "    print(\"\\nepoch {}/{}\".format(epoch+1,EPOCHS))\n",
        "    pb_i = Progbar(train.shape[0], stateful_metrics=metrics_names)\n",
        "\n",
        "    # inp -> question, tar -> answer\n",
        "    for (batch, (inp, tar)) in enumerate(train_dataset):\n",
        "        train_step(inp, tar)\n",
        "\n",
        "        values=[('loss',train_loss.result()), ('acc',train_accuracy.result())]\n",
        "\n",
        "        pb_i.add(batch_size, values=values)\n",
        "    if (epoch + 1) % 5 == 0:\n",
        "        ckpt_save_path = ckpt_manager.save()\n",
        "        print ('Saving checkpoint for epoch {} at {}'.format(epoch+1,ckpt_save_path))"
      ]
    },
    {
      "cell_type": "code",
      "execution_count": null,
      "id": "fa114565",
      "metadata": {
        "colab": {
          "base_uri": "https://localhost:8080/"
        },
        "id": "fa114565",
        "outputId": "9f329ea2-61c4-472b-9de8-61339c00c1ee"
      },
      "outputs": [
        {
          "output_type": "stream",
          "name": "stdout",
          "text": [
            "\n",
            "epoch 201/300\n",
            "832/797 [===============================] - 1s 2ms/step - loss: 1.0092 - acc: 0.3458\n",
            "\n",
            "epoch 202/300\n",
            "832/797 [===============================] - 1s 1ms/step - loss: 1.0045 - acc: 0.3462\n",
            "\n",
            "epoch 203/300\n",
            "832/797 [===============================] - 1s 1ms/step - loss: 0.9998 - acc: 0.3466\n",
            "\n",
            "epoch 204/300\n",
            "832/797 [===============================] - 1s 942us/step - loss: 0.9952 - acc: 0.3470\n",
            "\n",
            "epoch 205/300\n",
            "832/797 [===============================] - 1s 1ms/step - loss: 0.9906 - acc: 0.3474\n",
            "Saving checkpoint for epoch 205 at ./checkpoints_test/train/ckpt-46\n",
            "\n",
            "epoch 206/300\n",
            "832/797 [===============================] - 1s 953us/step - loss: 0.9860 - acc: 0.3478\n",
            "\n",
            "epoch 207/300\n",
            "832/797 [===============================] - 1s 959us/step - loss: 0.9815 - acc: 0.3481\n",
            "\n",
            "epoch 208/300\n",
            "832/797 [===============================] - 1s 950us/step - loss: 0.9771 - acc: 0.3485\n",
            "\n",
            "epoch 209/300\n",
            "832/797 [===============================] - 1s 971us/step - loss: 0.9726 - acc: 0.3489\n",
            "\n",
            "epoch 210/300\n",
            "832/797 [===============================] - 1s 955us/step - loss: 0.9683 - acc: 0.3492\n",
            "Saving checkpoint for epoch 210 at ./checkpoints_test/train/ckpt-47\n",
            "\n",
            "epoch 211/300\n",
            "832/797 [===============================] - 1s 1ms/step - loss: 0.9639 - acc: 0.3495\n",
            "\n",
            "epoch 212/300\n",
            "832/797 [===============================] - 1s 1ms/step - loss: 0.9596 - acc: 0.3499\n",
            "\n",
            "epoch 213/300\n",
            "832/797 [===============================] - 1s 1ms/step - loss: 0.9554 - acc: 0.3503\n",
            "\n",
            "epoch 214/300\n",
            "832/797 [===============================] - 1s 1ms/step - loss: 0.9512 - acc: 0.3507\n",
            "\n",
            "epoch 215/300\n",
            "832/797 [===============================] - 1s 1ms/step - loss: 0.9470 - acc: 0.3510\n",
            "Saving checkpoint for epoch 215 at ./checkpoints_test/train/ckpt-48\n",
            "\n",
            "epoch 216/300\n",
            "832/797 [===============================] - 1s 953us/step - loss: 0.9428 - acc: 0.3513\n",
            "\n",
            "epoch 217/300\n",
            "832/797 [===============================] - 1s 957us/step - loss: 0.9387 - acc: 0.3517\n",
            "\n",
            "epoch 218/300\n",
            "832/797 [===============================] - 1s 1ms/step - loss: 0.9346 - acc: 0.3521\n",
            "\n",
            "epoch 219/300\n",
            "832/797 [===============================] - 1s 961us/step - loss: 0.9305 - acc: 0.3524\n",
            "\n",
            "epoch 220/300\n",
            "832/797 [===============================] - 1s 978us/step - loss: 0.9266 - acc: 0.3527\n",
            "Saving checkpoint for epoch 220 at ./checkpoints_test/train/ckpt-49\n",
            "\n",
            "epoch 221/300\n",
            "832/797 [===============================] - 1s 946us/step - loss: 0.9226 - acc: 0.3530\n",
            "\n",
            "epoch 222/300\n",
            "832/797 [===============================] - 1s 1ms/step - loss: 0.9187 - acc: 0.3534\n",
            "\n",
            "epoch 223/300\n",
            "832/797 [===============================] - 1s 1ms/step - loss: 0.9148 - acc: 0.3537\n",
            "\n",
            "epoch 224/300\n",
            "832/797 [===============================] - 1s 1ms/step - loss: 0.9110 - acc: 0.3540\n",
            "\n",
            "epoch 225/300\n",
            "832/797 [===============================] - 1s 1ms/step - loss: 0.9072 - acc: 0.3543\n",
            "Saving checkpoint for epoch 225 at ./checkpoints_test/train/ckpt-50\n",
            "\n",
            "epoch 226/300\n",
            "832/797 [===============================] - 1s 979us/step - loss: 0.9034 - acc: 0.3546\n",
            "\n",
            "epoch 227/300\n",
            "832/797 [===============================] - 1s 957us/step - loss: 0.8996 - acc: 0.3548\n",
            "\n",
            "epoch 228/300\n",
            "832/797 [===============================] - 1s 1ms/step - loss: 0.8959 - acc: 0.3551\n",
            "\n",
            "epoch 229/300\n",
            "832/797 [===============================] - 1s 965us/step - loss: 0.8922 - acc: 0.3554\n",
            "\n",
            "epoch 230/300\n",
            "832/797 [===============================] - 1s 1ms/step - loss: 0.8885 - acc: 0.3557\n",
            "Saving checkpoint for epoch 230 at ./checkpoints_test/train/ckpt-51\n",
            "\n",
            "epoch 231/300\n",
            "832/797 [===============================] - 1s 963us/step - loss: 0.8849 - acc: 0.3559\n",
            "\n",
            "epoch 232/300\n",
            "832/797 [===============================] - 1s 969us/step - loss: 0.8813 - acc: 0.3562\n",
            "\n",
            "epoch 233/300\n",
            "832/797 [===============================] - 1s 945us/step - loss: 0.8777 - acc: 0.3566\n",
            "\n",
            "epoch 234/300\n",
            "832/797 [===============================] - 1s 1ms/step - loss: 0.8741 - acc: 0.3569\n",
            "\n",
            "epoch 235/300\n",
            "832/797 [===============================] - 1s 1ms/step - loss: 0.8706 - acc: 0.3571\n",
            "Saving checkpoint for epoch 235 at ./checkpoints_test/train/ckpt-52\n",
            "\n",
            "epoch 236/300\n",
            "832/797 [===============================] - 1s 1ms/step - loss: 0.8671 - acc: 0.3574\n",
            "\n",
            "epoch 237/300\n",
            "832/797 [===============================] - 1s 2ms/step - loss: 0.8637 - acc: 0.3577\n",
            "\n",
            "epoch 238/300\n",
            "832/797 [===============================] - 1s 1ms/step - loss: 0.8603 - acc: 0.3580\n",
            "\n",
            "epoch 239/300\n",
            "832/797 [===============================] - 1s 960us/step - loss: 0.8568 - acc: 0.3583\n",
            "\n",
            "epoch 240/300\n",
            "832/797 [===============================] - 1s 941us/step - loss: 0.8535 - acc: 0.3585\n",
            "Saving checkpoint for epoch 240 at ./checkpoints_test/train/ckpt-53\n",
            "\n",
            "epoch 241/300\n",
            "832/797 [===============================] - 1s 967us/step - loss: 0.8501 - acc: 0.3588\n",
            "\n",
            "epoch 242/300\n",
            "832/797 [===============================] - 1s 988us/step - loss: 0.8468 - acc: 0.3590\n",
            "\n",
            "epoch 243/300\n",
            "832/797 [===============================] - 1s 954us/step - loss: 0.8435 - acc: 0.3593\n",
            "\n",
            "epoch 244/300\n",
            "832/797 [===============================] - 1s 1ms/step - loss: 0.8403 - acc: 0.3596\n",
            "\n",
            "epoch 245/300\n",
            "832/797 [===============================] - 1s 989us/step - loss: 0.8370 - acc: 0.3598\n",
            "Saving checkpoint for epoch 245 at ./checkpoints_test/train/ckpt-54\n",
            "\n",
            "epoch 246/300\n",
            "832/797 [===============================] - 1s 1ms/step - loss: 0.8338 - acc: 0.3601\n",
            "\n",
            "epoch 247/300\n",
            "832/797 [===============================] - 1s 1ms/step - loss: 0.8306 - acc: 0.3604\n",
            "\n",
            "epoch 248/300\n",
            "832/797 [===============================] - 1s 1ms/step - loss: 0.8274 - acc: 0.3607\n",
            "\n",
            "epoch 249/300\n",
            "832/797 [===============================] - 1s 1ms/step - loss: 0.8243 - acc: 0.3609\n",
            "\n",
            "epoch 250/300\n",
            "832/797 [===============================] - 1s 1ms/step - loss: 0.8212 - acc: 0.3612\n",
            "Saving checkpoint for epoch 250 at ./checkpoints_test/train/ckpt-55\n",
            "\n",
            "epoch 251/300\n",
            "832/797 [===============================] - 1s 1ms/step - loss: 0.8181 - acc: 0.3614\n",
            "\n",
            "epoch 252/300\n",
            "832/797 [===============================] - 1s 991us/step - loss: 0.8150 - acc: 0.3617\n",
            "\n",
            "epoch 253/300\n",
            "832/797 [===============================] - 1s 1ms/step - loss: 0.8120 - acc: 0.3619\n",
            "\n",
            "epoch 254/300\n",
            "832/797 [===============================] - 1s 970us/step - loss: 0.8090 - acc: 0.3621\n",
            "\n",
            "epoch 255/300\n",
            "832/797 [===============================] - 1s 969us/step - loss: 0.8060 - acc: 0.3624\n",
            "Saving checkpoint for epoch 255 at ./checkpoints_test/train/ckpt-56\n",
            "\n",
            "epoch 256/300\n",
            "832/797 [===============================] - 1s 980us/step - loss: 0.8031 - acc: 0.3627\n",
            "\n",
            "epoch 257/300\n",
            "832/797 [===============================] - 1s 932us/step - loss: 0.8001 - acc: 0.3629\n",
            "\n",
            "epoch 258/300\n",
            "832/797 [===============================] - 1s 1ms/step - loss: 0.7973 - acc: 0.3631\n",
            "\n",
            "epoch 259/300\n",
            "832/797 [===============================] - 1s 1ms/step - loss: 0.7944 - acc: 0.3633\n",
            "\n",
            "epoch 260/300\n",
            "832/797 [===============================] - 1s 1ms/step - loss: 0.7915 - acc: 0.3636\n",
            "Saving checkpoint for epoch 260 at ./checkpoints_test/train/ckpt-57\n",
            "\n",
            "epoch 261/300\n",
            "832/797 [===============================] - 1s 1ms/step - loss: 0.7887 - acc: 0.3638\n",
            "\n",
            "epoch 262/300\n",
            "832/797 [===============================] - 1s 1ms/step - loss: 0.7858 - acc: 0.3641\n",
            "\n",
            "epoch 263/300\n",
            "832/797 [===============================] - 1s 956us/step - loss: 0.7830 - acc: 0.3643\n",
            "\n",
            "epoch 264/300\n",
            "832/797 [===============================] - 1s 1ms/step - loss: 0.7802 - acc: 0.3645\n",
            "\n",
            "epoch 265/300\n",
            "832/797 [===============================] - 1s 963us/step - loss: 0.7775 - acc: 0.3647\n",
            "Saving checkpoint for epoch 265 at ./checkpoints_test/train/ckpt-58\n",
            "\n",
            "epoch 266/300\n",
            "832/797 [===============================] - 1s 1ms/step - loss: 0.7747 - acc: 0.3649\n",
            "\n",
            "epoch 267/300\n",
            "832/797 [===============================] - 1s 938us/step - loss: 0.7720 - acc: 0.3651\n",
            "\n",
            "epoch 268/300\n",
            "832/797 [===============================] - 1s 1ms/step - loss: 0.7693 - acc: 0.3654\n",
            "\n",
            "epoch 269/300\n",
            "832/797 [===============================] - 1s 943us/step - loss: 0.7666 - acc: 0.3656\n",
            "\n",
            "epoch 270/300\n",
            "832/797 [===============================] - 1s 956us/step - loss: 0.7639 - acc: 0.3658\n",
            "Saving checkpoint for epoch 270 at ./checkpoints_test/train/ckpt-59\n",
            "\n",
            "epoch 271/300\n",
            "832/797 [===============================] - 1s 2ms/step - loss: 0.7612 - acc: 0.3661\n",
            "\n",
            "epoch 272/300\n",
            "832/797 [===============================] - 1s 1ms/step - loss: 0.7586 - acc: 0.3663\n",
            "\n",
            "epoch 273/300\n",
            "832/797 [===============================] - 1s 984us/step - loss: 0.7560 - acc: 0.3665\n",
            "\n",
            "epoch 274/300\n",
            "832/797 [===============================] - 1s 985us/step - loss: 0.7534 - acc: 0.3667\n",
            "\n",
            "epoch 275/300\n",
            "832/797 [===============================] - 1s 954us/step - loss: 0.7508 - acc: 0.3669\n",
            "Saving checkpoint for epoch 275 at ./checkpoints_test/train/ckpt-60\n",
            "\n",
            "epoch 276/300\n",
            "832/797 [===============================] - 1s 936us/step - loss: 0.7483 - acc: 0.3671\n",
            "\n",
            "epoch 277/300\n",
            "832/797 [===============================] - 1s 966us/step - loss: 0.7457 - acc: 0.3673\n",
            "\n",
            "epoch 278/300\n",
            "832/797 [===============================] - 1s 1ms/step - loss: 0.7432 - acc: 0.3676\n",
            "\n",
            "epoch 279/300\n",
            "832/797 [===============================] - 1s 939us/step - loss: 0.7407 - acc: 0.3678\n",
            "\n",
            "epoch 280/300\n",
            "832/797 [===============================] - 1s 1ms/step - loss: 0.7382 - acc: 0.3679\n",
            "Saving checkpoint for epoch 280 at ./checkpoints_test/train/ckpt-61\n",
            "\n",
            "epoch 281/300\n",
            "832/797 [===============================] - 1s 1ms/step - loss: 0.7358 - acc: 0.3682\n",
            "\n",
            "epoch 282/300\n",
            "832/797 [===============================] - 1s 2ms/step - loss: 0.7333 - acc: 0.3684\n",
            "\n",
            "epoch 283/300\n",
            "832/797 [===============================] - 1s 1ms/step - loss: 0.7309 - acc: 0.3685\n",
            "\n",
            "epoch 284/300\n",
            "832/797 [===============================] - 1s 1ms/step - loss: 0.7285 - acc: 0.3688\n",
            "\n",
            "epoch 285/300\n",
            "832/797 [===============================] - 1s 1ms/step - loss: 0.7261 - acc: 0.3690\n",
            "Saving checkpoint for epoch 285 at ./checkpoints_test/train/ckpt-62\n",
            "\n",
            "epoch 286/300\n",
            "832/797 [===============================] - 1s 950us/step - loss: 0.7237 - acc: 0.3692\n",
            "\n",
            "epoch 287/300\n",
            "832/797 [===============================] - 1s 941us/step - loss: 0.7213 - acc: 0.3694\n",
            "\n",
            "epoch 288/300\n",
            "832/797 [===============================] - 1s 1ms/step - loss: 0.7190 - acc: 0.3696\n",
            "\n",
            "epoch 289/300\n",
            "832/797 [===============================] - 1s 1ms/step - loss: 0.7166 - acc: 0.3698\n",
            "\n",
            "epoch 290/300\n",
            "832/797 [===============================] - 1s 983us/step - loss: 0.7143 - acc: 0.3700\n",
            "Saving checkpoint for epoch 290 at ./checkpoints_test/train/ckpt-63\n",
            "\n",
            "epoch 291/300\n",
            "832/797 [===============================] - 1s 973us/step - loss: 0.7119 - acc: 0.3701\n",
            "\n",
            "epoch 292/300\n",
            "832/797 [===============================] - 1s 1ms/step - loss: 0.7096 - acc: 0.3703\n",
            "\n",
            "epoch 293/300\n",
            "832/797 [===============================] - 1s 1ms/step - loss: 0.7074 - acc: 0.3705\n",
            "\n",
            "epoch 294/300\n",
            "832/797 [===============================] - 1s 2ms/step - loss: 0.7051 - acc: 0.3707\n",
            "\n",
            "epoch 295/300\n",
            "832/797 [===============================] - 1s 1ms/step - loss: 0.7028 - acc: 0.3709\n",
            "Saving checkpoint for epoch 295 at ./checkpoints_test/train/ckpt-64\n",
            "\n",
            "epoch 296/300\n",
            "832/797 [===============================] - 1s 1ms/step - loss: 0.7006 - acc: 0.3711\n",
            "\n",
            "epoch 297/300\n",
            "832/797 [===============================] - 1s 928us/step - loss: 0.6984 - acc: 0.3713\n",
            "\n",
            "epoch 298/300\n",
            "832/797 [===============================] - 1s 1ms/step - loss: 0.6961 - acc: 0.3714\n",
            "\n",
            "epoch 299/300\n",
            "832/797 [===============================] - 1s 1ms/step - loss: 0.6939 - acc: 0.3716\n",
            "\n",
            "epoch 300/300\n",
            "832/797 [===============================] - 1s 962us/step - loss: 0.6918 - acc: 0.3718\n",
            "Saving checkpoint for epoch 300 at ./checkpoints_test/train/ckpt-65\n"
          ]
        }
      ],
      "source": [
        "EPOCHS = 300\n",
        "batch_size = 64\n",
        "metrics_names = ['loss', 'acc']\n",
        "# train_loss.reset_states()\n",
        "# train_accuracy.reset_states()\n",
        "for epoch in range(200, EPOCHS):\n",
        "    print(\"\\nepoch {}/{}\".format(epoch+1,EPOCHS))\n",
        "    pb_i = Progbar(train.shape[0], stateful_metrics=metrics_names)\n",
        "\n",
        "    # inp -> question, tar -> answer\n",
        "    for (batch, (inp, tar)) in enumerate(train_dataset):\n",
        "        train_step(inp, tar)\n",
        "\n",
        "        values=[('loss',train_loss.result()), ('acc',train_accuracy.result())]\n",
        "\n",
        "        pb_i.add(batch_size, values=values)\n",
        "    if (epoch + 1) % 5 == 0:\n",
        "        ckpt_save_path = ckpt_manager.save()\n",
        "        print ('Saving checkpoint for epoch {} at {}'.format(epoch+1,ckpt_save_path))"
      ]
    },
    {
      "cell_type": "code",
      "execution_count": null,
      "id": "88154466",
      "metadata": {
        "colab": {
          "base_uri": "https://localhost:8080/"
        },
        "id": "88154466",
        "outputId": "c8fe9f47-7119-4e7b-e0ed-22396dac602f"
      },
      "outputs": [
        {
          "output_type": "stream",
          "name": "stdout",
          "text": [
            "\n",
            "epoch 301/350\n",
            "832/797 [===============================] - 1s 1ms/step - loss: 0.6896 - acc: 0.3720\n",
            "\n",
            "epoch 302/350\n",
            "832/797 [===============================] - 1s 960us/step - loss: 0.6874 - acc: 0.3721\n",
            "\n",
            "epoch 303/350\n",
            "832/797 [===============================] - 1s 970us/step - loss: 0.6853 - acc: 0.3723\n",
            "\n",
            "epoch 304/350\n",
            "832/797 [===============================] - 1s 1ms/step - loss: 0.6832 - acc: 0.3725\n",
            "\n",
            "epoch 305/350\n",
            "832/797 [===============================] - 1s 1ms/step - loss: 0.6811 - acc: 0.3727\n",
            "Saving checkpoint for epoch 305 at ./checkpoints_test/train/ckpt-66\n",
            "\n",
            "epoch 306/350\n",
            "832/797 [===============================] - 1s 1ms/step - loss: 0.6790 - acc: 0.3729\n",
            "\n",
            "epoch 307/350\n",
            "832/797 [===============================] - 1s 1ms/step - loss: 0.6769 - acc: 0.3730\n",
            "\n",
            "epoch 308/350\n",
            "832/797 [===============================] - 1s 969us/step - loss: 0.6748 - acc: 0.3732\n",
            "\n",
            "epoch 309/350\n",
            "832/797 [===============================] - 1s 937us/step - loss: 0.6727 - acc: 0.3733\n",
            "\n",
            "epoch 310/350\n",
            "832/797 [===============================] - 1s 964us/step - loss: 0.6707 - acc: 0.3735\n",
            "Saving checkpoint for epoch 310 at ./checkpoints_test/train/ckpt-67\n",
            "\n",
            "epoch 311/350\n",
            "832/797 [===============================] - 1s 948us/step - loss: 0.6686 - acc: 0.3737\n",
            "\n",
            "epoch 312/350\n",
            "832/797 [===============================] - 1s 945us/step - loss: 0.6666 - acc: 0.3739\n",
            "\n",
            "epoch 313/350\n",
            "832/797 [===============================] - 1s 941us/step - loss: 0.6646 - acc: 0.3741\n",
            "\n",
            "epoch 314/350\n",
            "832/797 [===============================] - 1s 1ms/step - loss: 0.6626 - acc: 0.3742\n",
            "\n",
            "epoch 315/350\n",
            "832/797 [===============================] - 1s 963us/step - loss: 0.6606 - acc: 0.3744\n",
            "Saving checkpoint for epoch 315 at ./checkpoints_test/train/ckpt-68\n",
            "\n",
            "epoch 316/350\n",
            "832/797 [===============================] - 1s 1ms/step - loss: 0.6586 - acc: 0.3745\n",
            "\n",
            "epoch 317/350\n",
            "832/797 [===============================] - 1s 1ms/step - loss: 0.6566 - acc: 0.3747\n",
            "\n",
            "epoch 318/350\n",
            "832/797 [===============================] - 1s 1ms/step - loss: 0.6546 - acc: 0.3748\n",
            "\n",
            "epoch 319/350\n",
            "832/797 [===============================] - 1s 1ms/step - loss: 0.6527 - acc: 0.3749\n",
            "\n",
            "epoch 320/350\n",
            "832/797 [===============================] - 1s 1ms/step - loss: 0.6507 - acc: 0.3751\n",
            "Saving checkpoint for epoch 320 at ./checkpoints_test/train/ckpt-69\n",
            "\n",
            "epoch 321/350\n",
            "832/797 [===============================] - 1s 956us/step - loss: 0.6488 - acc: 0.3752\n",
            "\n",
            "epoch 322/350\n",
            "832/797 [===============================] - 1s 953us/step - loss: 0.6469 - acc: 0.3754\n",
            "\n",
            "epoch 323/350\n",
            "832/797 [===============================] - 1s 948us/step - loss: 0.6450 - acc: 0.3755\n",
            "\n",
            "epoch 324/350\n",
            "832/797 [===============================] - 1s 953us/step - loss: 0.6432 - acc: 0.3757\n",
            "\n",
            "epoch 325/350\n",
            "832/797 [===============================] - 1s 949us/step - loss: 0.6413 - acc: 0.3758\n",
            "Saving checkpoint for epoch 325 at ./checkpoints_test/train/ckpt-70\n",
            "\n",
            "epoch 326/350\n",
            "832/797 [===============================] - 1s 980us/step - loss: 0.6394 - acc: 0.3760\n",
            "\n",
            "epoch 327/350\n",
            "832/797 [===============================] - 1s 967us/step - loss: 0.6376 - acc: 0.3762\n",
            "\n",
            "epoch 328/350\n",
            "832/797 [===============================] - 1s 1ms/step - loss: 0.6357 - acc: 0.3763\n",
            "\n",
            "epoch 329/350\n",
            "832/797 [===============================] - 1s 1ms/step - loss: 0.6339 - acc: 0.3764\n",
            "\n",
            "epoch 330/350\n",
            "832/797 [===============================] - 1s 2ms/step - loss: 0.6320 - acc: 0.3766\n",
            "Saving checkpoint for epoch 330 at ./checkpoints_test/train/ckpt-71\n",
            "\n",
            "epoch 331/350\n",
            "832/797 [===============================] - 1s 1ms/step - loss: 0.6302 - acc: 0.3767\n",
            "\n",
            "epoch 332/350\n",
            "832/797 [===============================] - 1s 980us/step - loss: 0.6284 - acc: 0.3769\n",
            "\n",
            "epoch 333/350\n",
            "832/797 [===============================] - 1s 940us/step - loss: 0.6266 - acc: 0.3770\n",
            "\n",
            "epoch 334/350\n",
            "832/797 [===============================] - 1s 959us/step - loss: 0.6248 - acc: 0.3772\n",
            "\n",
            "epoch 335/350\n",
            "832/797 [===============================] - 1s 964us/step - loss: 0.6230 - acc: 0.3773\n",
            "Saving checkpoint for epoch 335 at ./checkpoints_test/train/ckpt-72\n",
            "\n",
            "epoch 336/350\n",
            "832/797 [===============================] - 1s 964us/step - loss: 0.6212 - acc: 0.3775\n",
            "\n",
            "epoch 337/350\n",
            "832/797 [===============================] - 1s 1ms/step - loss: 0.6195 - acc: 0.3776\n",
            "\n",
            "epoch 338/350\n",
            "832/797 [===============================] - 1s 981us/step - loss: 0.6177 - acc: 0.3778\n",
            "\n",
            "epoch 339/350\n",
            "832/797 [===============================] - 1s 1ms/step - loss: 0.6160 - acc: 0.3779\n",
            "\n",
            "epoch 340/350\n",
            "832/797 [===============================] - 1s 1ms/step - loss: 0.6143 - acc: 0.3781\n",
            "Saving checkpoint for epoch 340 at ./checkpoints_test/train/ckpt-73\n",
            "\n",
            "epoch 341/350\n",
            "832/797 [===============================] - 1s 1ms/step - loss: 0.6125 - acc: 0.3782\n",
            "\n",
            "epoch 342/350\n",
            "832/797 [===============================] - 1s 1ms/step - loss: 0.6108 - acc: 0.3783\n",
            "\n",
            "epoch 343/350\n",
            "832/797 [===============================] - 1s 1ms/step - loss: 0.6091 - acc: 0.3785\n",
            "\n",
            "epoch 344/350\n",
            "832/797 [===============================] - 1s 940us/step - loss: 0.6075 - acc: 0.3787\n",
            "\n",
            "epoch 345/350\n",
            "832/797 [===============================] - 1s 977us/step - loss: 0.6058 - acc: 0.3788\n",
            "Saving checkpoint for epoch 345 at ./checkpoints_test/train/ckpt-74\n",
            "\n",
            "epoch 346/350\n",
            "832/797 [===============================] - 1s 985us/step - loss: 0.6041 - acc: 0.3789\n",
            "\n",
            "epoch 347/350\n",
            "832/797 [===============================] - 1s 999us/step - loss: 0.6025 - acc: 0.3790\n",
            "\n",
            "epoch 348/350\n",
            "832/797 [===============================] - 1s 963us/step - loss: 0.6008 - acc: 0.3792\n",
            "\n",
            "epoch 349/350\n",
            "832/797 [===============================] - 1s 981us/step - loss: 0.5992 - acc: 0.3793\n",
            "\n",
            "epoch 350/350\n",
            "832/797 [===============================] - 1s 952us/step - loss: 0.5975 - acc: 0.3794\n",
            "Saving checkpoint for epoch 350 at ./checkpoints_test/train/ckpt-75\n"
          ]
        }
      ],
      "source": [
        "EPOCHS = 350\n",
        "batch_size = 64\n",
        "metrics_names = ['loss', 'acc']\n",
        "# train_loss.reset_states()\n",
        "# train_accuracy.reset_states()\n",
        "for epoch in range(300, EPOCHS):\n",
        "    print(\"\\nepoch {}/{}\".format(epoch+1,EPOCHS))\n",
        "    pb_i = Progbar(train.shape[0], stateful_metrics=metrics_names)\n",
        "\n",
        "    # inp -> question, tar -> answer\n",
        "    for (batch, (inp, tar)) in enumerate(train_dataset):\n",
        "        train_step(inp, tar)\n",
        "\n",
        "        values=[('loss',train_loss.result()), ('acc',train_accuracy.result())]\n",
        "\n",
        "        pb_i.add(batch_size, values=values)\n",
        "    if (epoch + 1) % 5 == 0:\n",
        "        ckpt_save_path = ckpt_manager.save()\n",
        "        print ('Saving checkpoint for epoch {} at {}'.format(epoch+1,ckpt_save_path))"
      ]
    },
    {
      "cell_type": "markdown",
      "id": "58fe7b10",
      "metadata": {
        "id": "58fe7b10"
      },
      "source": [
        "# EPOCH:350, I think its enough, let's check what type of REPLIES that CHATBOT is generating"
      ]
    },
    {
      "cell_type": "code",
      "execution_count": null,
      "id": "578270c4",
      "metadata": {
        "id": "578270c4"
      },
      "outputs": [],
      "source": [
        "# joblib.dump(tokenizer_q, \"tokenizer_q\")\n",
        "# joblib.dump(tokenizer_a, \"tokenizer_a\")\n",
        "transformer.save_weights('transformer_model/weights')"
      ]
    },
    {
      "cell_type": "code",
      "execution_count": null,
      "id": "5c93b48c",
      "metadata": {
        "id": "5c93b48c"
      },
      "outputs": [],
      "source": [
        "import matplotlib.pyplot as plt\n",
        "import matplotlib.ticker as ticker\n",
        "def plot_attention(attention, sentence, predicted_sentence):\n",
        "    fig = plt.figure(figsize=(10,10))\n",
        "    ax = fig.add_subplot(1, 1, 1)\n",
        "    ax.matshow(attention, cmap='viridis')\n",
        "\n",
        "    fontdict = {'fontsize': 14}\n",
        "    sentence = sentence.split(\" \")\n",
        "    predicted_sentence = predicted_sentence.split(\" \")\n",
        "    ax.xaxis.set_major_locator(ticker.MultipleLocator(1))\n",
        "    ax.yaxis.set_major_locator(ticker.MultipleLocator(1))\n",
        "    ax.set_xticklabels([''] + sentence, fontdict=fontdict, rotation=90)\n",
        "    ax.set_yticklabels([''] + predicted_sentence, fontdict=fontdict)\n",
        "\n",
        "\n",
        "\n",
        "def plot_attention_weights(attention,tokenizer_q, tokenizer_a, sentence, result, layer):\n",
        "\n",
        "    fig = plt.figure(figsize=(16, 8))\n",
        "\n",
        "    sentence = tokenizer_q.encode(sentence)\n",
        "\n",
        "    attention = tf.squeeze(attention[layer], axis=0)\n",
        "    #(1, 8, 5, 4) --> (8, 5, 4)\n",
        "    for head in range(attention.shape[0]):\n",
        "        ax = fig.add_subplot(2, 4, head+1)\n",
        "\n",
        "        # plot the attention weights [:-1, :]\n",
        "        ax.matshow(attention[head][:-1, :], cmap='viridis')\n",
        "        fontdict = {'fontsize': 10}\n",
        "\n",
        "        ax.set_xticks(range(len(sentence)+2))\n",
        "        ax.set_yticks(range(len(result)-1))\n",
        "\n",
        "        ax.set_ylim(len(result)-1.5, -0.5)\n",
        "        ax.xaxis.set_major_locator(ticker.MultipleLocator(1))\n",
        "        ax.yaxis.set_major_locator(ticker.MultipleLocator(1))\n",
        "        x = ['<start>']+[tokenizer_q.decode([i]) for i in sentence]+['<end>']\n",
        "        y = [tokenizer_a.decode([i]) for i in result if i < tokenizer_a.vocab_size]\n",
        "        ax.set_xticklabels([''] + x, fontdict=fontdict, rotation=90)\n",
        "        ax.set_yticklabels([''] + y, fontdict=fontdict)\n",
        "\n",
        "\n",
        "        ax.set_xlabel('Head {}'.format(head+1))\n",
        "\n",
        "    plt.tight_layout()\n",
        "    plt.show()\n",
        "\n",
        "\n",
        "MAX_LENGTH = 27\n",
        "\n",
        "def evaluate(inp_sentence, model,  tokenizer_q, tokenizer_a):\n",
        "    start_token = [tokenizer_q.vocab_size]\n",
        "    end_token = [tokenizer_q.vocab_size + 1]\n",
        "\n",
        "    # All questions has the start and end token\n",
        "    inp_sentence = start_token + tokenizer_q.encode(inp_sentence) + end_token\n",
        "    encoder_input = tf.expand_dims(inp_sentence, 0)\n",
        "\n",
        "    # 'answers' start token : 27358\n",
        "    decoder_input = [tokenizer_a.vocab_size]\n",
        "    decoder_input = tf.expand_dims(decoder_input, 0)\n",
        "\n",
        "    for i in range(MAX_LENGTH):\n",
        "        enc_padding_mask, combined_mask, dec_padding_mask = create_masks(encoder_input, decoder_input)\n",
        "\n",
        "        # predictions.shape == (batch_size, seq_len, vocab_size)\n",
        "        predictions, attention_weights = model(encoder_input,\n",
        "                                                     decoder_input,\n",
        "                                                     False,\n",
        "                                                     enc_padding_mask,\n",
        "                                                     combined_mask,\n",
        "                                                     dec_padding_mask)\n",
        "\n",
        "        # select the last word from the seq_len dimension\n",
        "        predictions = predictions[: ,-1:, :]  # (batch_size, 1, vocab_size)\n",
        "\n",
        "        predicted_id = tf.cast(tf.argmax(predictions, axis=-1), tf.int32)\n",
        "\n",
        "        # return the result if the predicted_id is equal to the end token\n",
        "        if predicted_id == tokenizer_a.vocab_size+1:\n",
        "            print(f\"=============\\nGot end token\\n=============\")\n",
        "            return tf.squeeze(decoder_input, axis=0), attention_weights\n",
        "\n",
        "        # concatentate the predicted_id to the output which is given to the decoder\n",
        "        # as its input.\n",
        "        decoder_input = tf.concat([decoder_input, predicted_id], axis=-1)\n",
        "\n",
        "    return tf.squeeze(decoder_input, axis=0), attention_weights"
      ]
    },
    {
      "cell_type": "code",
      "execution_count": null,
      "id": "4f3aad84",
      "metadata": {
        "id": "4f3aad84"
      },
      "outputs": [],
      "source": [
        "def reply(sentence, transformer,  tokenizer_q, tokenizer_a, plot=''):\n",
        "    result, attention_weights = evaluate(sentence, transformer,  tokenizer_q, tokenizer_a)\n",
        "#     print(\"Attention_Blocks:\", list(attention_weights.keys()))\n",
        "    predicted_sentence = tokenizer_a.decode([i for i in result\n",
        "                                            if i < tokenizer_a.vocab_size])\n",
        "\n",
        "    print('Input: {}'.format(sentence))\n",
        "    print('Predicted translation: {}'.format(predicted_sentence))\n",
        "    if plot:\n",
        "        plot_attention_weights(attention_weights,tokenizer_q, tokenizer_a, sentence, result, plot)\n",
        "    return sentence, predicted_sentence"
      ]
    },
    {
      "cell_type": "code",
      "execution_count": null,
      "id": "1b5f1253",
      "metadata": {
        "colab": {
          "base_uri": "https://localhost:8080/",
          "height": 792
        },
        "id": "1b5f1253",
        "outputId": "21e8154c-ab53-41d4-e455-c6c176e3e946"
      },
      "outputs": [
        {
          "output_type": "stream",
          "name": "stdout",
          "text": [
            "=============\n",
            "Got end token\n",
            "=============\n",
            "Input: i was told ten thousand in each pack\n",
            "Predicted translation:  We'll be happy to take a look into this with you. Here's a link to join us in DM. \n"
          ]
        },
        {
          "output_type": "display_data",
          "data": {
            "text/plain": [
              "<Figure size 1600x800 with 8 Axes>"
            ],
            "image/png": "[encoded data removed]"
          },
          "metadata": {}
        },
        {
          "output_type": "execute_result",
          "data": {
            "text/plain": [
              "('i was told ten thousand in each pack',\n",
              " \" We'll be happy to take a look into this with you. Here's a link to join us in DM. \")"
            ]
          },
          "metadata": {},
          "execution_count": 52
        }
      ],
      "source": [
        "inp_sentence = \"i was told ten thousand in each pack\"\n",
        "reply(inp_sentence, transformer,  tokenizer_q, tokenizer_a, \"decoder_layer2_block2\")"
      ]
    },
    {
      "cell_type": "markdown",
      "id": "b3db5f71",
      "metadata": {
        "id": "b3db5f71"
      },
      "source": [
        "## OUTPUTS are not absurd at all, It has LEARNED"
      ]
    },
    {
      "cell_type": "code",
      "execution_count": null,
      "id": "298cfd21",
      "metadata": {
        "colab": {
          "base_uri": "https://localhost:8080/"
        },
        "id": "298cfd21",
        "outputId": "cd57201a-4e59-4cf4-98a0-f8c7e2890c98"
      },
      "outputs": [
        {
          "output_type": "stream",
          "name": "stdout",
          "text": [
            "Input: i did not sleep well\n",
            "Predicted translation:  We'd be happy to look into this with you. Please DM us using the link below and we'll go from there\n"
          ]
        },
        {
          "output_type": "execute_result",
          "data": {
            "text/plain": [
              "('i did not sleep well',\n",
              " \" We'd be happy to look into this with you. Please DM us using the link below and we'll go from there\")"
            ]
          },
          "metadata": {},
          "execution_count": 53
        }
      ],
      "source": [
        "inp_sentence = \"i did not sleep well\"\n",
        "reply(inp_sentence, transformer,  tokenizer_q, tokenizer_a)"
      ]
    },
    {
      "cell_type": "code",
      "execution_count": null,
      "id": "afd920ba",
      "metadata": {
        "scrolled": true,
        "colab": {
          "base_uri": "https://localhost:8080/",
          "height": 237
        },
        "id": "afd920ba",
        "outputId": "077c9d4e-dbf9-475d-ba46-d2171aef31e0"
      },
      "outputs": [
        {
          "output_type": "execute_result",
          "data": {
            "text/plain": [
              "                                  question  \\\n",
              "659   charging my phone but it’s reduci...   \n",
              "91   Come on  #ios11.1  Same bug as bef...   \n",
              "292   Yayz 11.1 and just 2 English and ...   \n",
              "150   only 8 attempts to open the twitt...   \n",
              "793   So I thought Apple still doesn’t ...   \n",
              "82    11.1?? when did that come out lol...   \n",
              "\n",
              "                                                answer  \n",
              "659   We'd like to help you with this. Are you usin...  \n",
              "91    Let's investigate this together. Does this on...  \n",
              "292   Thank you! Is this issue only occurring in me...  \n",
              "150   We'd like to look into this with you. Please ...  \n",
              "793   Thanks for reaching out. Send us a DM and we'...  \n",
              "82    It was released earlier today. Let's use thes...  "
            ],
            "text/html": [
              "\n",
              "  <div id=\"df-39cbc917-bec3-4021-acea-7d0208173886\" class=\"colab-df-container\">\n",
              "    <div>\n",
              "<style scoped>\n",
              "    .dataframe tbody tr th:only-of-type {\n",
              "        vertical-align: middle;\n",
              "    }\n",
              "\n",
              "    .dataframe tbody tr th {\n",
              "        vertical-align: top;\n",
              "    }\n",
              "\n",
              "    .dataframe thead th {\n",
              "        text-align: right;\n",
              "    }\n",
              "</style>\n",
              "<table border=\"1\" class=\"dataframe\">\n",
              "  <thead>\n",
              "    <tr style=\"text-align: right;\">\n",
              "      <th></th>\n",
              "      <th>question</th>\n",
              "      <th>answer</th>\n",
              "    </tr>\n",
              "  </thead>\n",
              "  <tbody>\n",
              "    <tr>\n",
              "      <th>659</th>\n",
              "      <td>charging my phone but it’s reduci...</td>\n",
              "      <td>We'd like to help you with this. Are you usin...</td>\n",
              "    </tr>\n",
              "    <tr>\n",
              "      <th>91</th>\n",
              "      <td>Come on  #ios11.1  Same bug as bef...</td>\n",
              "      <td>Let's investigate this together. Does this on...</td>\n",
              "    </tr>\n",
              "    <tr>\n",
              "      <th>292</th>\n",
              "      <td>Yayz 11.1 and just 2 English and ...</td>\n",
              "      <td>Thank you! Is this issue only occurring in me...</td>\n",
              "    </tr>\n",
              "    <tr>\n",
              "      <th>150</th>\n",
              "      <td>only 8 attempts to open the twitt...</td>\n",
              "      <td>We'd like to look into this with you. Please ...</td>\n",
              "    </tr>\n",
              "    <tr>\n",
              "      <th>793</th>\n",
              "      <td>So I thought Apple still doesn’t ...</td>\n",
              "      <td>Thanks for reaching out. Send us a DM and we'...</td>\n",
              "    </tr>\n",
              "    <tr>\n",
              "      <th>82</th>\n",
              "      <td>11.1?? when did that come out lol...</td>\n",
              "      <td>It was released earlier today. Let's use thes...</td>\n",
              "    </tr>\n",
              "  </tbody>\n",
              "</table>\n",
              "</div>\n",
              "    <div class=\"colab-df-buttons\">\n",
              "\n",
              "  <div class=\"colab-df-container\">\n",
              "    <button class=\"colab-df-convert\" onclick=\"convertToInteractive('df-39cbc917-bec3-4021-acea-7d0208173886')\"\n",
              "            title=\"Convert this dataframe to an interactive table.\"\n",
              "            style=\"display:none;\">\n",
              "\n",
              "  <svg xmlns=\"http://www.w3.org/2000/svg\" height=\"24px\" viewBox=\"0 -960 960 960\">\n",
              "    <path d=\"M120-120v-720h720v720H120Zm60-500h600v-160H180v160Zm220 220h160v-160H400v160Zm0 220h160v-160H400v160ZM180-400h160v-160H180v160Zm440 0h160v-160H620v160ZM180-180h160v-160H180v160Zm440 0h160v-160H620v160Z\"/>\n",
              "  </svg>\n",
              "    </button>\n",
              "\n",
              "  <style>\n",
              "    .colab-df-container {\n",
              "      display:flex;\n",
              "      gap: 12px;\n",
              "    }\n",
              "\n",
              "    .colab-df-convert {\n",
              "      background-color: #E8F0FE;\n",
              "      border: none;\n",
              "      border-radius: 50%;\n",
              "      cursor: pointer;\n",
              "      display: none;\n",
              "      fill: #1967D2;\n",
              "      height: 32px;\n",
              "      padding: 0 0 0 0;\n",
              "      width: 32px;\n",
              "    }\n",
              "\n",
              "    .colab-df-convert:hover {\n",
              "      background-color: #E2EBFA;\n",
              "      box-shadow: 0px 1px 2px rgba(60, 64, 67, 0.3), 0px 1px 3px 1px rgba(60, 64, 67, 0.15);\n",
              "      fill: #174EA6;\n",
              "    }\n",
              "\n",
              "    .colab-df-buttons div {\n",
              "      margin-bottom: 4px;\n",
              "    }\n",
              "\n",
              "    [theme=dark] .colab-df-convert {\n",
              "      background-color: #3B4455;\n",
              "      fill: #D2E3FC;\n",
              "    }\n",
              "\n",
              "    [theme=dark] .colab-df-convert:hover {\n",
              "      background-color: #434B5C;\n",
              "      box-shadow: 0px 1px 3px 1px rgba(0, 0, 0, 0.15);\n",
              "      filter: drop-shadow(0px 1px 2px rgba(0, 0, 0, 0.3));\n",
              "      fill: #FFFFFF;\n",
              "    }\n",
              "  </style>\n",
              "\n",
              "    <script>\n",
              "      const buttonEl =\n",
              "        document.querySelector('#df-39cbc917-bec3-4021-acea-7d0208173886 button.colab-df-convert');\n",
              "      buttonEl.style.display =\n",
              "        google.colab.kernel.accessAllowed ? 'block' : 'none';\n",
              "\n",
              "      async function convertToInteractive(key) {\n",
              "        const element = document.querySelector('#df-39cbc917-bec3-4021-acea-7d0208173886');\n",
              "        const dataTable =\n",
              "          await google.colab.kernel.invokeFunction('convertToInteractive',\n",
              "                                                    [key], {});\n",
              "        if (!dataTable) return;\n",
              "\n",
              "        const docLinkHtml = 'Like what you see? Visit the ' +\n",
              "          '<a target=\"_blank\" href=https://colab.research.google.com/notebooks/data_table.ipynb>data table notebook</a>'\n",
              "          + ' to learn more about interactive tables.';\n",
              "        element.innerHTML = '';\n",
              "        dataTable['output_type'] = 'display_data';\n",
              "        await google.colab.output.renderOutput(dataTable, element);\n",
              "        const docLink = document.createElement('div');\n",
              "        docLink.innerHTML = docLinkHtml;\n",
              "        element.appendChild(docLink);\n",
              "      }\n",
              "    </script>\n",
              "  </div>\n",
              "\n",
              "\n",
              "<div id=\"df-bce86efb-13b0-4d53-980a-a58dc0e9fa48\">\n",
              "  <button class=\"colab-df-quickchart\" onclick=\"quickchart('df-bce86efb-13b0-4d53-980a-a58dc0e9fa48')\"\n",
              "            title=\"Suggest charts\"\n",
              "            style=\"display:none;\">\n",
              "\n",
              "<svg xmlns=\"http://www.w3.org/2000/svg\" height=\"24px\"viewBox=\"0 0 24 24\"\n",
              "     width=\"24px\">\n",
              "    <g>\n",
              "        <path d=\"M19 3H5c-1.1 0-2 .9-2 2v14c0 1.1.9 2 2 2h14c1.1 0 2-.9 2-2V5c0-1.1-.9-2-2-2zM9 17H7v-7h2v7zm4 0h-2V7h2v10zm4 0h-2v-4h2v4z\"/>\n",
              "    </g>\n",
              "</svg>\n",
              "  </button>\n",
              "\n",
              "<style>\n",
              "  .colab-df-quickchart {\n",
              "      --bg-color: #E8F0FE;\n",
              "      --fill-color: #1967D2;\n",
              "      --hover-bg-color: #E2EBFA;\n",
              "      --hover-fill-color: #174EA6;\n",
              "      --disabled-fill-color: #AAA;\n",
              "      --disabled-bg-color: #DDD;\n",
              "  }\n",
              "\n",
              "  [theme=dark] .colab-df-quickchart {\n",
              "      --bg-color: #3B4455;\n",
              "      --fill-color: #D2E3FC;\n",
              "      --hover-bg-color: #434B5C;\n",
              "      --hover-fill-color: #FFFFFF;\n",
              "      --disabled-bg-color: #3B4455;\n",
              "      --disabled-fill-color: #666;\n",
              "  }\n",
              "\n",
              "  .colab-df-quickchart {\n",
              "    background-color: var(--bg-color);\n",
              "    border: none;\n",
              "    border-radius: 50%;\n",
              "    cursor: pointer;\n",
              "    display: none;\n",
              "    fill: var(--fill-color);\n",
              "    height: 32px;\n",
              "    padding: 0;\n",
              "    width: 32px;\n",
              "  }\n",
              "\n",
              "  .colab-df-quickchart:hover {\n",
              "    background-color: var(--hover-bg-color);\n",
              "    box-shadow: 0 1px 2px rgba(60, 64, 67, 0.3), 0 1px 3px 1px rgba(60, 64, 67, 0.15);\n",
              "    fill: var(--button-hover-fill-color);\n",
              "  }\n",
              "\n",
              "  .colab-df-quickchart-complete:disabled,\n",
              "  .colab-df-quickchart-complete:disabled:hover {\n",
              "    background-color: var(--disabled-bg-color);\n",
              "    fill: var(--disabled-fill-color);\n",
              "    box-shadow: none;\n",
              "  }\n",
              "\n",
              "  .colab-df-spinner {\n",
              "    border: 2px solid var(--fill-color);\n",
              "    border-color: transparent;\n",
              "    border-bottom-color: var(--fill-color);\n",
              "    animation:\n",
              "      spin 1s steps(1) infinite;\n",
              "  }\n",
              "\n",
              "  @keyframes spin {\n",
              "    0% {\n",
              "      border-color: transparent;\n",
              "      border-bottom-color: var(--fill-color);\n",
              "      border-left-color: var(--fill-color);\n",
              "    }\n",
              "    20% {\n",
              "      border-color: transparent;\n",
              "      border-left-color: var(--fill-color);\n",
              "      border-top-color: var(--fill-color);\n",
              "    }\n",
              "    30% {\n",
              "      border-color: transparent;\n",
              "      border-left-color: var(--fill-color);\n",
              "      border-top-color: var(--fill-color);\n",
              "      border-right-color: var(--fill-color);\n",
              "    }\n",
              "    40% {\n",
              "      border-color: transparent;\n",
              "      border-right-color: var(--fill-color);\n",
              "      border-top-color: var(--fill-color);\n",
              "    }\n",
              "    60% {\n",
              "      border-color: transparent;\n",
              "      border-right-color: var(--fill-color);\n",
              "    }\n",
              "    80% {\n",
              "      border-color: transparent;\n",
              "      border-right-color: var(--fill-color);\n",
              "      border-bottom-color: var(--fill-color);\n",
              "    }\n",
              "    90% {\n",
              "      border-color: transparent;\n",
              "      border-bottom-color: var(--fill-color);\n",
              "    }\n",
              "  }\n",
              "</style>\n",
              "\n",
              "  <script>\n",
              "    async function quickchart(key) {\n",
              "      const quickchartButtonEl =\n",
              "        document.querySelector('#' + key + ' button');\n",
              "      quickchartButtonEl.disabled = true;  // To prevent multiple clicks.\n",
              "      quickchartButtonEl.classList.add('colab-df-spinner');\n",
              "      try {\n",
              "        const charts = await google.colab.kernel.invokeFunction(\n",
              "            'suggestCharts', [key], {});\n",
              "      } catch (error) {\n",
              "        console.error('Error during call to suggestCharts:', error);\n",
              "      }\n",
              "      quickchartButtonEl.classList.remove('colab-df-spinner');\n",
              "      quickchartButtonEl.classList.add('colab-df-quickchart-complete');\n",
              "    }\n",
              "    (() => {\n",
              "      let quickchartButtonEl =\n",
              "        document.querySelector('#df-bce86efb-13b0-4d53-980a-a58dc0e9fa48 button');\n",
              "      quickchartButtonEl.style.display =\n",
              "        google.colab.kernel.accessAllowed ? 'block' : 'none';\n",
              "    })();\n",
              "  </script>\n",
              "</div>\n",
              "    </div>\n",
              "  </div>\n"
            ]
          },
          "metadata": {},
          "execution_count": 54
        }
      ],
      "source": [
        "train.iloc[400:406]"
      ]
    },
    {
      "cell_type": "code",
      "execution_count": null,
      "id": "14569967",
      "metadata": {
        "colab": {
          "base_uri": "https://localhost:8080/",
          "height": 53
        },
        "id": "14569967",
        "outputId": "43aec209-7325-43ae-dd59-832454acd0ee"
      },
      "outputs": [
        {
          "output_type": "execute_result",
          "data": {
            "text/plain": [
              "Empty DataFrame\n",
              "Columns: [question, answer]\n",
              "Index: []"
            ],
            "text/html": [
              "\n",
              "  <div id=\"df-6ac9ee75-2275-4b02-a554-fdd152933f4f\" class=\"colab-df-container\">\n",
              "    <div>\n",
              "<style scoped>\n",
              "    .dataframe tbody tr th:only-of-type {\n",
              "        vertical-align: middle;\n",
              "    }\n",
              "\n",
              "    .dataframe tbody tr th {\n",
              "        vertical-align: top;\n",
              "    }\n",
              "\n",
              "    .dataframe thead th {\n",
              "        text-align: right;\n",
              "    }\n",
              "</style>\n",
              "<table border=\"1\" class=\"dataframe\">\n",
              "  <thead>\n",
              "    <tr style=\"text-align: right;\">\n",
              "      <th></th>\n",
              "      <th>question</th>\n",
              "      <th>answer</th>\n",
              "    </tr>\n",
              "  </thead>\n",
              "  <tbody>\n",
              "  </tbody>\n",
              "</table>\n",
              "</div>\n",
              "    <div class=\"colab-df-buttons\">\n",
              "\n",
              "  <div class=\"colab-df-container\">\n",
              "    <button class=\"colab-df-convert\" onclick=\"convertToInteractive('df-6ac9ee75-2275-4b02-a554-fdd152933f4f')\"\n",
              "            title=\"Convert this dataframe to an interactive table.\"\n",
              "            style=\"display:none;\">\n",
              "\n",
              "  <svg xmlns=\"http://www.w3.org/2000/svg\" height=\"24px\" viewBox=\"0 -960 960 960\">\n",
              "    <path d=\"M120-120v-720h720v720H120Zm60-500h600v-160H180v160Zm220 220h160v-160H400v160Zm0 220h160v-160H400v160ZM180-400h160v-160H180v160Zm440 0h160v-160H620v160ZM180-180h160v-160H180v160Zm440 0h160v-160H620v160Z\"/>\n",
              "  </svg>\n",
              "    </button>\n",
              "\n",
              "  <style>\n",
              "    .colab-df-container {\n",
              "      display:flex;\n",
              "      gap: 12px;\n",
              "    }\n",
              "\n",
              "    .colab-df-convert {\n",
              "      background-color: #E8F0FE;\n",
              "      border: none;\n",
              "      border-radius: 50%;\n",
              "      cursor: pointer;\n",
              "      display: none;\n",
              "      fill: #1967D2;\n",
              "      height: 32px;\n",
              "      padding: 0 0 0 0;\n",
              "      width: 32px;\n",
              "    }\n",
              "\n",
              "    .colab-df-convert:hover {\n",
              "      background-color: #E2EBFA;\n",
              "      box-shadow: 0px 1px 2px rgba(60, 64, 67, 0.3), 0px 1px 3px 1px rgba(60, 64, 67, 0.15);\n",
              "      fill: #174EA6;\n",
              "    }\n",
              "\n",
              "    .colab-df-buttons div {\n",
              "      margin-bottom: 4px;\n",
              "    }\n",
              "\n",
              "    [theme=dark] .colab-df-convert {\n",
              "      background-color: #3B4455;\n",
              "      fill: #D2E3FC;\n",
              "    }\n",
              "\n",
              "    [theme=dark] .colab-df-convert:hover {\n",
              "      background-color: #434B5C;\n",
              "      box-shadow: 0px 1px 3px 1px rgba(0, 0, 0, 0.15);\n",
              "      filter: drop-shadow(0px 1px 2px rgba(0, 0, 0, 0.3));\n",
              "      fill: #FFFFFF;\n",
              "    }\n",
              "  </style>\n",
              "\n",
              "    <script>\n",
              "      const buttonEl =\n",
              "        document.querySelector('#df-6ac9ee75-2275-4b02-a554-fdd152933f4f button.colab-df-convert');\n",
              "      buttonEl.style.display =\n",
              "        google.colab.kernel.accessAllowed ? 'block' : 'none';\n",
              "\n",
              "      async function convertToInteractive(key) {\n",
              "        const element = document.querySelector('#df-6ac9ee75-2275-4b02-a554-fdd152933f4f');\n",
              "        const dataTable =\n",
              "          await google.colab.kernel.invokeFunction('convertToInteractive',\n",
              "                                                    [key], {});\n",
              "        if (!dataTable) return;\n",
              "\n",
              "        const docLinkHtml = 'Like what you see? Visit the ' +\n",
              "          '<a target=\"_blank\" href=https://colab.research.google.com/notebooks/data_table.ipynb>data table notebook</a>'\n",
              "          + ' to learn more about interactive tables.';\n",
              "        element.innerHTML = '';\n",
              "        dataTable['output_type'] = 'display_data';\n",
              "        await google.colab.output.renderOutput(dataTable, element);\n",
              "        const docLink = document.createElement('div');\n",
              "        docLink.innerHTML = docLinkHtml;\n",
              "        element.appendChild(docLink);\n",
              "      }\n",
              "    </script>\n",
              "  </div>\n",
              "\n",
              "    </div>\n",
              "  </div>\n"
            ]
          },
          "metadata": {},
          "execution_count": 55
        }
      ],
      "source": [
        "validation.iloc[400:406]"
      ]
    },
    {
      "cell_type": "code",
      "execution_count": null,
      "id": "a112d4ac",
      "metadata": {
        "scrolled": true,
        "colab": {
          "base_uri": "https://localhost:8080/"
        },
        "id": "a112d4ac",
        "outputId": "5dca5b24-f10a-4962-cd89-267518404922"
      },
      "outputs": [
        {
          "output_type": "stream",
          "name": "stdout",
          "text": [
            "=============\n",
            "Got end token\n",
            "=============\n",
            "Input:  just updated my 7 plus to 11.1 bu...\n",
            "Predicted translation:  Got it. Have you updated your Apple Watch to 4.1 yet?\n",
            "Actual:  Got it. Have you updated your Apple Watch to 4.1 yet?\n",
            "=============\n",
            "Got end token\n",
            "=============\n",
            "Input:  7 Plus and 11.0.3\n",
            "Predicted translation:  Install our newest iOS 11.1 update to help:  Let us know if this helps improve these issues.\n",
            "Actual:  Install our newest iOS 11.1 update to help:  Let us know if this helps improve these issues.\n",
            "=============\n",
            "Got end token\n",
            "=============\n",
            "Input:  Thanks for the prompt reply. Scar...\n",
            "Predicted translation:  OK. Feel free to send us a DM if you still have questions.\n",
            "Actual:  OK. Feel free to send us a DM if you still have questions.\n",
            "Input:  The latest one.\n",
            "Predicted translation:  We want to look into this further with you. Can you send us a DM and let us know the device model you're \n",
            "Actual:  We want to look into this further with you. Can you send us a DM and let us know the device model you're using? \n",
            "=============\n",
            "Got end token\n",
            "=============\n",
            "Input:   any suggestions???\n",
            "Predicted translation:  We'd like to look at service options with you. Let's take a look at this in DM. \n",
            "Actual:  We'd like to look at service options with you. Let's take a look at this in DM. \n",
            "=============\n",
            "Got end token\n",
            "=============\n",
            "Input:  why everytime I️ type an “I️” this extr...\n",
            "Predicted translation:  Let's work on a solution together. To start, which device model and exact iOS version are you using?\n",
            "Actual:  Let's work on a solution together. To start, which device model and exact iOS version are you using?\n",
            "=============\n",
            "Got end token\n",
            "=============\n",
            "Input: Hey  just wondering why this new update ...\n",
            "Predicted translation:  You've come to the right place. What seems to be going on with your phone?\n",
            "Actual:  You've come to the right place. What seems to be going on with your phone?\n",
            "=============\n",
            "Got end token\n",
            "=============\n",
            "Input:  got people out here looking crazy with ...\n",
            "Predicted translation:  We’re available to help. Which device model and operating system are you using? Let us know in DM. \n",
            "Actual:  We’re available to help. Which device model and operating system are you using? Let us know in DM. \n",
            "Input: My 6 month old IPhone 6 touch screen is unrespo...\n",
            "Predicted translation:  We're happy to help. What version of iOS are you currently running? Find that in Settings &gt; General &gt\n",
            "Actual:  We're happy to help. What version of iOS are you currently running? Find that in Settings &gt; General &gt; About.\n",
            "=============\n",
            "Got end token\n",
            "=============\n",
            "Input:  11.0\n",
            "Predicted translation:  We released iOS 11.1 today. Let's update to see if that helps. Here's how: \n",
            "Actual:  We released iOS 11.1 today. Let's update to see if that helps. Here's how: \n"
          ]
        }
      ],
      "source": [
        "import nltk.translate.bleu_score as bleu\n",
        "from tqdm import tqdm\n",
        "test_q = train[\"question\"].values[:10]\n",
        "test_a = train[\"answer\"].values[:10]\n",
        "bss = []\n",
        "for i in range(10):\n",
        "    input_test_sentence = test_q[i]\n",
        "    input_sentence, pred_string = reply(input_test_sentence, transformer,  tokenizer_q, tokenizer_a, plot='')\n",
        "    print(\"Actual:\", test_a[i])\n",
        "    reference = [test_a[i].split()] # the original\n",
        "    translation = pred_string.split() # trasilated using model\n",
        "#     bs = bleu.sentence_bleu(reference, translation)\n",
        "#     bss.append(bs)\n"
      ]
    },
    {
      "cell_type": "code",
      "execution_count": null,
      "id": "f5221356",
      "metadata": {
        "colab": {
          "base_uri": "https://localhost:8080/"
        },
        "id": "f5221356",
        "outputId": "d34ea446-ea8e-40ef-f4a6-a8ef35ecb75b"
      },
      "outputs": [
        {
          "output_type": "execute_result",
          "data": {
            "text/plain": [
              "<tensorflow.python.checkpoint.checkpoint.CheckpointLoadStatus at 0x7f8c398d2e00>"
            ]
          },
          "metadata": {},
          "execution_count": 62
        }
      ],
      "source": [
        "num_layers = 2\n",
        "d_model = 128\n",
        "dff = 512\n",
        "num_heads = 8\n",
        "input_vocab_size = tokenizer_q.vocab_size + 2\n",
        "target_vocab_size = tokenizer_a.vocab_size + 2\n",
        "dropout_rate = 0.1\n",
        "\n",
        "load_transformer = Transformer(num_layers, d_model, num_heads, dff,\n",
        "                          input_vocab_size, target_vocab_size,\n",
        "                          pe_input=input_vocab_size,\n",
        "                          pe_target=target_vocab_size,\n",
        "                          rate=dropout_rate)\n",
        "load_transformer.load_weights('transformer_model/weights')"
      ]
    },
    {
      "cell_type": "code",
      "execution_count": null,
      "id": "c86d5e23",
      "metadata": {
        "colab": {
          "base_uri": "https://localhost:8080/"
        },
        "id": "c86d5e23",
        "outputId": "d3f41e31-1b95-47b3-bebd-8f345242c44c"
      },
      "outputs": [
        {
          "output_type": "stream",
          "name": "stdout",
          "text": [
            "Input:   APPLE WHY IS MY “I️’s” co...\n",
            "Predicted translation:  We'd like to see whatupdated. Does this issue mean into your photos?  mean into your iPhone? Which use. Can \n",
            "Actual:  Hi. We are here to help. What version of iOS do you have?\n",
            "=============\n",
            "Got end token\n",
            "=============\n",
            "Input:  This is self explanatory screen s...\n",
            "Predicted translation:  Thankstell assistanceinto getting tried where other apps updated assistance? Also, mean reset using under Safari noticed other assistance?\n",
            "Actual:  Let's see if updating the iPhone to iOS 11.1 helps. DM us if it doesn't.  \n",
            "Input: Got burned and scarred with my magsafe charger ...\n",
            "Predicted translation:  We're experiencing. Please send ask where this heat seems originate on this issue? Reply those screenshots. DM with tell us if \n",
            "Actual:  We want to look into this with you. Send us a DM letting us know more about what happened. \n",
            "Input: Please fix the battery issues in Ios 11! \n",
            "Predicted translation:  We'd like to take a closer look into this troubleshootingcan can be happeningcan be able to clarifycan be getting an unresponsive \n",
            "Actual:  We want to make sure you have a working battery. Have you had a chance to update to the latest 11.1?\n",
            "=============\n",
            "Got end token\n",
            "=============\n",
            "Input:  Thank you\n",
            "Predicted translation:  , too.\n",
            "Actual:  You're very welcome! Please feel free to reach out to us again if you need any more help. Have a great day!\n",
            "Input:  you guys are terrible back in Oct...\n",
            "Predicted translation:  We're here for you. Does this issue Zumba running connected with our status trash emails notice how important love to play other applications \n",
            "Actual:  We are happy to help. Please DM us and we will continue from there. \n",
            "Input:  Same thing\n",
            "Predicted translation:  Let'll need to have a way to our doesnon your apps or Battery way downloaded on your iPhone Battery and tell us when \n",
            "Actual:  Thanks for trying. DM us and we'll continue there. \n",
            "Input:   is there a way to close a...\n",
            "Predicted translation:  Thank stepsfor steps. DM the issues you're having. Reach out stepsstepsfor stepsstepsstepsstepsstepsfor assistance: \n",
            "Actual:  Reach out to our Education department through the following link:  \n",
            "=============\n",
            "Got end token\n",
            "=============\n",
            "Input: 6 years later I still can’t access Contacts on ...\n",
            "Predicted translation:  We're using issues, but  &amp; game, would like to clarifyissues?\n",
            "Actual:  You should be able to access your iCloud contacts on the web. DM us, and we'll see what we can do. \n",
            "=============\n",
            "Got end token\n",
            "=============\n",
            "Input:  I bought 2 iPhones X on Friday, b...\n",
            "Predicted translation:  We'll need tell newly tell us where tell us where tell newly tell us where this details assistance. DM shortly. \n",
            "Actual:  Thanks for reaching out to us. Please send us a DM with your country, and we'll look into this. \n"
          ]
        }
      ],
      "source": [
        "import nltk.translate.bleu_score as bleu\n",
        "from tqdm import tqdm\n",
        "test_q = validation[\"question\"].values[100:110]\n",
        "test_a = validation[\"answer\"].values[100:110]\n",
        "bss = []\n",
        "for i in range(10):\n",
        "    input_test_sentence = test_q[i]\n",
        "    input_sentence, pred_string = reply(input_test_sentence, load_transformer,  tokenizer_q, tokenizer_a, plot='')\n",
        "    print(\"Actual:\", test_a[i])\n",
        "    reference = [test_a[i].split()] # the original\n",
        "    translation = pred_string.split() # trasilated using model"
      ]
    },
    {
      "cell_type": "code",
      "execution_count": null,
      "id": "5d2d6845",
      "metadata": {
        "colab": {
          "base_uri": "https://localhost:8080/",
          "height": 755
        },
        "id": "5d2d6845",
        "outputId": "7705da82-69eb-41ac-89f0-7d7e994928c6"
      },
      "outputs": [
        {
          "output_type": "stream",
          "name": "stdout",
          "text": [
            "=============\n",
            "Got end token\n",
            "=============\n",
            "Input: i was told ten thousand in each pack\n",
            "Predicted translation:  We're using are &amp; 11.1 software version are you noticed other issues?\n"
          ]
        },
        {
          "output_type": "display_data",
          "data": {
            "text/plain": [
              "<Figure size 1600x800 with 8 Axes>"
            ],
            "image/png": "[encoded data removed]"
          },
          "metadata": {}
        },
        {
          "output_type": "execute_result",
          "data": {
            "text/plain": [
              "('i was told ten thousand in each pack',\n",
              " \" We're using are &amp; 11.1 software version are you noticed other issues?\")"
            ]
          },
          "metadata": {},
          "execution_count": 64
        }
      ],
      "source": [
        "inp_sentence = \"i was told ten thousand in each pack\"\n",
        "reply(inp_sentence, load_transformer,  tokenizer_q, tokenizer_a, \"decoder_layer2_block2\")"
      ]
    },
    {
      "cell_type": "markdown",
      "id": "76541209",
      "metadata": {
        "id": "76541209"
      },
      "source": [
        "* Results are great, better than encoder-decoder with bahadenau attention mechanism\n",
        "* Still we can see the results are not perfect, because the architecture has less parameters plus the dataset is not very big and transformers works close to humans with large data and large trainable parameters"
      ]
    },
    {
      "cell_type": "markdown",
      "id": "144f2d50",
      "metadata": {
        "id": "144f2d50"
      },
      "source": [
        "# On random inputs!\n",
        "### Results are genuine"
      ]
    },
    {
      "cell_type": "code",
      "execution_count": null,
      "id": "c357afa8",
      "metadata": {
        "colab": {
          "base_uri": "https://localhost:8080/"
        },
        "id": "c357afa8",
        "outputId": "82246e9e-fd6f-443e-e43f-4fb79f26a185"
      },
      "outputs": [
        {
          "output_type": "stream",
          "name": "stdout",
          "text": [
            "=============\n",
            "Got end token\n",
            "=============\n",
            "Input: hi\n",
            "Predicted translation:  Let'll continue for ways gt; General &ampfor our like out for our like gt; with?\n"
          ]
        },
        {
          "output_type": "execute_result",
          "data": {
            "text/plain": [
              "('hi',\n",
              " \" Let'll continue for ways gt; General &ampfor our like out for our like gt; with?\")"
            ]
          },
          "metadata": {},
          "execution_count": 65
        }
      ],
      "source": [
        "inp_sentence = \"hi\"\n",
        "reply(inp_sentence, load_transformer,  tokenizer_q, tokenizer_a)\n"
      ]
    },
    {
      "cell_type": "code",
      "execution_count": null,
      "id": "a8dbf4e6",
      "metadata": {
        "colab": {
          "base_uri": "https://localhost:8080/"
        },
        "id": "a8dbf4e6",
        "outputId": "5a4e3f21-5c59-4868-f11e-b204953252ab"
      },
      "outputs": [
        {
          "output_type": "stream",
          "name": "stdout",
          "text": [
            "=============\n",
            "Got end token\n",
            "=============\n",
            "Input: Where have you been\n",
            "Predicted translation:  We'd like to assist. Reach out to us in DM and we'll continue assistance.\n"
          ]
        },
        {
          "output_type": "execute_result",
          "data": {
            "text/plain": [
              "('Where have you been',\n",
              " \" We'd like to assist. Reach out to us in DM and we'll continue assistance.\")"
            ]
          },
          "metadata": {},
          "execution_count": 66
        }
      ],
      "source": [
        "inp_sentence = \"Where have you been\"\n",
        "reply(inp_sentence, load_transformer,  tokenizer_q, tokenizer_a)\n"
      ]
    },
    {
      "cell_type": "markdown",
      "id": "b357781a",
      "metadata": {
        "id": "b357781a"
      },
      "source": [
        "#### Making sense haha : ) \"who are you\""
      ]
    },
    {
      "cell_type": "code",
      "execution_count": null,
      "id": "b1d86b1c",
      "metadata": {
        "colab": {
          "base_uri": "https://localhost:8080/"
        },
        "id": "b1d86b1c",
        "outputId": "abbad67b-dbfb-4d62-8606-79c5a8d1e482"
      },
      "outputs": [
        {
          "output_type": "stream",
          "name": "stdout",
          "text": [
            "Input: who are you\n",
            "Predicted translation:  We're happy to help in your phone confirm by for issues after There having. Please DM us what're eager to offer \n"
          ]
        },
        {
          "output_type": "execute_result",
          "data": {
            "text/plain": [
              "('who are you',\n",
              " \" We're happy to help in your phone confirm by for issues after There having. Please DM us what're eager to offer \")"
            ]
          },
          "metadata": {},
          "execution_count": 67
        }
      ],
      "source": [
        "inp_sentence = \"who are you\"\n",
        "reply(inp_sentence, load_transformer,  tokenizer_q, tokenizer_a)\n"
      ]
    },
    {
      "cell_type": "markdown",
      "id": "58f0fab3",
      "metadata": {
        "id": "58f0fab3"
      },
      "source": [
        "####  Again making sense \"where do you live\""
      ]
    },
    {
      "cell_type": "code",
      "execution_count": null,
      "id": "635f4b9c",
      "metadata": {
        "colab": {
          "base_uri": "https://localhost:8080/"
        },
        "id": "635f4b9c",
        "outputId": "0ded4f89-2685-4e83-d2dc-fee67deb0ef6"
      },
      "outputs": [
        {
          "output_type": "stream",
          "name": "stdout",
          "text": [
            "Input: where do you live\n",
            "Predicted translation:  We can your iPhone where screenshotsyour iPhone? Which us your screenshotsSOS calls? Which watching tell us whaton your tell us what\n"
          ]
        },
        {
          "output_type": "execute_result",
          "data": {
            "text/plain": [
              "('where do you live',\n",
              " ' We can your iPhone where screenshotsyour iPhone? Which us your screenshotsSOS calls? Which watching tell us whaton your tell us what')"
            ]
          },
          "metadata": {},
          "execution_count": 68
        }
      ],
      "source": [
        "inp_sentence = \"where do you live\"\n",
        "reply(inp_sentence, load_transformer,  tokenizer_q, tokenizer_a)"
      ]
    },
    {
      "cell_type": "code",
      "execution_count": null,
      "id": "88ecdc49",
      "metadata": {
        "colab": {
          "base_uri": "https://localhost:8080/"
        },
        "id": "88ecdc49",
        "outputId": "9b122073-cfe6-4911-b293-02f0a4b9da16"
      },
      "outputs": [
        {
          "output_type": "stream",
          "name": "stdout",
          "text": [
            "Input: what is your name\n",
            "Predicted translation:  Thanksconfirm reset those stepsreset those stepsreset those SOS detailSOS detaillike to clarifySOS Settings &gtvia those stepsthose steps\n"
          ]
        },
        {
          "output_type": "execute_result",
          "data": {
            "text/plain": [
              "('what is your name',\n",
              " ' Thanksconfirm reset those stepsreset those stepsreset those SOS detailSOS detaillike to clarifySOS Settings &gtvia those stepsthose steps')"
            ]
          },
          "metadata": {},
          "execution_count": 69
        }
      ],
      "source": [
        "inp_sentence = \"what is your name\"\n",
        "reply(inp_sentence, load_transformer,  tokenizer_q, tokenizer_a)"
      ]
    },
    {
      "cell_type": "code",
      "execution_count": null,
      "id": "b5f480ff",
      "metadata": {
        "scrolled": true,
        "colab": {
          "base_uri": "https://localhost:8080/"
        },
        "id": "b5f480ff",
        "outputId": "77ee78cb-23df-446a-eda1-2400d0353b42"
      },
      "outputs": [
        {
          "output_type": "stream",
          "name": "stdout",
          "text": [
            "Input: why are you angry with me is there anything i did wrong\n",
            "Predicted translation:  We're very welcome. So version of Let tell us 2 ID view running? You can found under Settings &amp; General\n"
          ]
        },
        {
          "output_type": "execute_result",
          "data": {
            "text/plain": [
              "('why are you angry with me is there anything i did wrong',\n",
              " \" We're very welcome. So version of Let tell us 2 ID view running? You can found under Settings &amp; General\")"
            ]
          },
          "metadata": {},
          "execution_count": 70
        }
      ],
      "source": [
        "inp_sentence = \"why are you angry with me is there anything i did wrong\"\n",
        "reply(inp_sentence, load_transformer,  tokenizer_q, tokenizer_a)"
      ]
    }
  ],
  "metadata": {
    "kernelspec": {
      "display_name": "Python 3",
      "name": "python3"
    },
    "language_info": {
      "codemirror_mode": {
        "name": "ipython",
        "version": 3
      },
      "file_extension": ".py",
      "mimetype": "text/x-python",
      "name": "python",
      "nbconvert_exporter": "python",
      "pygments_lexer": "ipython3",
      "version": "3.9.7"
    },
    "colab": {
      "provenance": [],
      "gpuType": "T4",
      "include_colab_link": true
    },
    "accelerator": "GPU"
  },
  "nbformat": 4,
  "nbformat_minor": 5
}